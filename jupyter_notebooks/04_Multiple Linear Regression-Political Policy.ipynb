{
 "cells": [
  {
   "cell_type": "markdown",
   "metadata": {},
   "source": [
    "## Multiple Linear Regression\n",
    "### and backward elimination\n",
    "#### political policy indicators\n",
    "\n",
    "The purpose of this notebook is to \n",
    "* apply Multiple Linear Regression to the preprocessed dataset\n",
    "* apply backward elimination to the model\n",
    "* ultimately find out the independent variables (World Development Idicators) which influence the dependent variable (Happy Planet Index) the most.\n",
    "\n",
    "The model will be applied to the \"wdi_hpi_2016_politics\" dataset, which was created in the Data Preprocessing JNotebook. This dataset is based on\n",
    "* the Happy Planet Index for 2016 (see https://happyplanetindex.org/),\n",
    "* the World Development Indicators (1960 - 2019) by the World Bank (see https://datacatalog.worldbank.org/dataset/world-development-indicators)"
   ]
  },
  {
   "cell_type": "code",
   "execution_count": 1,
   "metadata": {},
   "outputs": [],
   "source": [
    "# Import standard libraries\n",
    "import numpy as np\n",
    "import pandas as pd\n",
    "import matplotlib.pyplot as plt\n",
    "%matplotlib inline"
   ]
  },
  {
   "cell_type": "code",
   "execution_count": 2,
   "metadata": {},
   "outputs": [],
   "source": [
    "# Import dataset\n",
    "dataset = pd.read_pickle('../data/wdi_hpi_2016_politics.pkl')\n",
    "picture_name = '../data/pictures/Politics_corr.jpg'"
   ]
  },
  {
   "cell_type": "code",
   "execution_count": 3,
   "metadata": {},
   "outputs": [],
   "source": [
    "# Standardize data for the model\n",
    "from sklearn.preprocessing import StandardScaler\n",
    "scaler = StandardScaler()\n",
    "\n",
    "# Fit dataset to scaler object\n",
    "dataset_scaled = dataset.iloc[:, 1:].values    # Exclude Country column \n",
    "scaler.fit(dataset_scaled)\n",
    "\n",
    "# Transform data into scaled data\n",
    "dataset_scaled = pd.DataFrame(scaler.transform(dataset_scaled))"
   ]
  },
  {
   "cell_type": "code",
   "execution_count": 4,
   "metadata": {},
   "outputs": [],
   "source": [
    "# Split dataset into X (matrix of independent variables) and y (vector of dependent variable)\n",
    "X = dataset_scaled.iloc[:, 1:-1].values\n",
    "y = dataset_scaled.iloc[:, dataset_scaled.shape[1]-1].values\n",
    "\n",
    "# Split datasets into Training set and Test set\n",
    "from sklearn.model_selection import train_test_split\n",
    "X_train, X_test, y_train, y_test = train_test_split(X, y, test_size = 0.0)    # no split, as model is not used for prediction"
   ]
  },
  {
   "cell_type": "code",
   "execution_count": 5,
   "metadata": {},
   "outputs": [
    {
     "data": {
      "text/plain": [
       "LinearRegression(copy_X=True, fit_intercept=True, n_jobs=1, normalize=False)"
      ]
     },
     "execution_count": 5,
     "metadata": {},
     "output_type": "execute_result"
    }
   ],
   "source": [
    "# Fit Multiple Linear Regression Model to the Training set\n",
    "from sklearn.linear_model import LinearRegression\n",
    "regressor = LinearRegression()\n",
    "regressor.fit(X_train, y_train)"
   ]
  },
  {
   "cell_type": "code",
   "execution_count": 6,
   "metadata": {},
   "outputs": [],
   "source": [
    "# Predict the Test set results\n",
    "#y_pred = regressor.predict(X_test)"
   ]
  },
  {
   "cell_type": "code",
   "execution_count": 7,
   "metadata": {},
   "outputs": [
    {
     "data": {
      "text/html": [
       "<table class=\"simpletable\">\n",
       "<caption>OLS Regression Results</caption>\n",
       "<tr>\n",
       "  <th>Dep. Variable:</th>            <td>y</td>        <th>  R-squared:         </th> <td>   0.057</td>\n",
       "</tr>\n",
       "<tr>\n",
       "  <th>Model:</th>                   <td>OLS</td>       <th>  Adj. R-squared:    </th> <td>   0.021</td>\n",
       "</tr>\n",
       "<tr>\n",
       "  <th>Method:</th>             <td>Least Squares</td>  <th>  F-statistic:       </th> <td>   1.595</td>\n",
       "</tr>\n",
       "<tr>\n",
       "  <th>Date:</th>             <td>Tue, 03 Mar 2020</td> <th>  Prob (F-statistic):</th>  <td> 0.166</td> \n",
       "</tr>\n",
       "<tr>\n",
       "  <th>Time:</th>                 <td>17:19:41</td>     <th>  Log-Likelihood:    </th> <td> -193.19</td>\n",
       "</tr>\n",
       "<tr>\n",
       "  <th>No. Observations:</th>      <td>   139</td>      <th>  AIC:               </th> <td>   398.4</td>\n",
       "</tr>\n",
       "<tr>\n",
       "  <th>Df Residuals:</th>          <td>   133</td>      <th>  BIC:               </th> <td>   416.0</td>\n",
       "</tr>\n",
       "<tr>\n",
       "  <th>Df Model:</th>              <td>     5</td>      <th>                     </th>     <td> </td>   \n",
       "</tr>\n",
       "<tr>\n",
       "  <th>Covariance Type:</th>      <td>nonrobust</td>    <th>                     </th>     <td> </td>   \n",
       "</tr>\n",
       "</table>\n",
       "<table class=\"simpletable\">\n",
       "<tr>\n",
       "    <td></td>       <th>coef</th>     <th>std err</th>      <th>t</th>      <th>P>|t|</th>  <th>[0.025</th>    <th>0.975]</th>  \n",
       "</tr>\n",
       "<tr>\n",
       "  <th>const</th> <td>-2.012e-16</td> <td>    0.084</td> <td>-2.39e-15</td> <td> 1.000</td> <td>   -0.167</td> <td>    0.167</td>\n",
       "</tr>\n",
       "<tr>\n",
       "  <th>x1</th>    <td>    0.0781</td> <td>    0.087</td> <td>    0.899</td> <td> 0.371</td> <td>   -0.094</td> <td>    0.250</td>\n",
       "</tr>\n",
       "<tr>\n",
       "  <th>x2</th>    <td>    0.0285</td> <td>    0.094</td> <td>    0.303</td> <td> 0.762</td> <td>   -0.158</td> <td>    0.215</td>\n",
       "</tr>\n",
       "<tr>\n",
       "  <th>x3</th>    <td>    0.0736</td> <td>    0.088</td> <td>    0.838</td> <td> 0.403</td> <td>   -0.100</td> <td>    0.247</td>\n",
       "</tr>\n",
       "<tr>\n",
       "  <th>x4</th>    <td>   -0.1094</td> <td>    0.087</td> <td>   -1.260</td> <td> 0.210</td> <td>   -0.281</td> <td>    0.062</td>\n",
       "</tr>\n",
       "<tr>\n",
       "  <th>x5</th>    <td>   -0.1463</td> <td>    0.093</td> <td>   -1.567</td> <td> 0.120</td> <td>   -0.331</td> <td>    0.038</td>\n",
       "</tr>\n",
       "</table>\n",
       "<table class=\"simpletable\">\n",
       "<tr>\n",
       "  <th>Omnibus:</th>       <td> 3.551</td> <th>  Durbin-Watson:     </th> <td>   2.106</td>\n",
       "</tr>\n",
       "<tr>\n",
       "  <th>Prob(Omnibus):</th> <td> 0.169</td> <th>  Jarque-Bera (JB):  </th> <td>   2.205</td>\n",
       "</tr>\n",
       "<tr>\n",
       "  <th>Skew:</th>          <td> 0.054</td> <th>  Prob(JB):          </th> <td>   0.332</td>\n",
       "</tr>\n",
       "<tr>\n",
       "  <th>Kurtosis:</th>      <td> 2.393</td> <th>  Cond. No.          </th> <td>    1.66</td>\n",
       "</tr>\n",
       "</table><br/><br/>Warnings:<br/>[1] Standard Errors assume that the covariance matrix of the errors is correctly specified."
      ],
      "text/plain": [
       "<class 'statsmodels.iolib.summary.Summary'>\n",
       "\"\"\"\n",
       "                            OLS Regression Results                            \n",
       "==============================================================================\n",
       "Dep. Variable:                      y   R-squared:                       0.057\n",
       "Model:                            OLS   Adj. R-squared:                  0.021\n",
       "Method:                 Least Squares   F-statistic:                     1.595\n",
       "Date:                Tue, 03 Mar 2020   Prob (F-statistic):              0.166\n",
       "Time:                        17:19:41   Log-Likelihood:                -193.19\n",
       "No. Observations:                 139   AIC:                             398.4\n",
       "Df Residuals:                     133   BIC:                             416.0\n",
       "Df Model:                           5                                         \n",
       "Covariance Type:            nonrobust                                         \n",
       "==============================================================================\n",
       "                 coef    std err          t      P>|t|      [0.025      0.975]\n",
       "------------------------------------------------------------------------------\n",
       "const      -2.012e-16      0.084  -2.39e-15      1.000      -0.167       0.167\n",
       "x1             0.0781      0.087      0.899      0.371      -0.094       0.250\n",
       "x2             0.0285      0.094      0.303      0.762      -0.158       0.215\n",
       "x3             0.0736      0.088      0.838      0.403      -0.100       0.247\n",
       "x4            -0.1094      0.087     -1.260      0.210      -0.281       0.062\n",
       "x5            -0.1463      0.093     -1.567      0.120      -0.331       0.038\n",
       "==============================================================================\n",
       "Omnibus:                        3.551   Durbin-Watson:                   2.106\n",
       "Prob(Omnibus):                  0.169   Jarque-Bera (JB):                2.205\n",
       "Skew:                           0.054   Prob(JB):                        0.332\n",
       "Kurtosis:                       2.393   Cond. No.                         1.66\n",
       "==============================================================================\n",
       "\n",
       "Warnings:\n",
       "[1] Standard Errors assume that the covariance matrix of the errors is correctly specified.\n",
       "\"\"\""
      ]
     },
     "execution_count": 7,
     "metadata": {},
     "output_type": "execute_result"
    }
   ],
   "source": [
    "# Reduce less important variables with Backward Elimination\n",
    "import statsmodels.regression.linear_model as sm\n",
    "\n",
    "# for statsmodel to understand the multiple linear regression equation a new column with b0 equals one is required (y = b0 + b1*x1 + b2*x2 + ... + bn*xn)\n",
    "X_opt = np.append(arr = np.ones((len(X), 1)).astype(int), values = X, axis = 1)   # Add X to the newly created array of 1s\n",
    "#X_opt = X_opt[:, list(range(X_opt.shape[1]))]\n",
    "\n",
    "X_cols = dataset.columns[1:-1].tolist()    # save headers to determin most important variables later\n",
    "X_cols.insert(0,'b0')\n",
    "\n",
    "X_mod1, X_mod2 = X_opt.copy(), X_opt.copy()\n",
    "X_cols_mod1, X_cols_mod2 = X_cols.copy(), X_cols.copy()\n",
    "\n",
    "regressor_OLS = sm.OLS(endog = y, exog = X_opt).fit()\n",
    "regressor_OLS.summary()"
   ]
  },
  {
   "cell_type": "code",
   "execution_count": 8,
   "metadata": {},
   "outputs": [
    {
     "name": "stdout",
     "output_type": "stream",
     "text": [
      "['MS.MIL.XPND.GD.ZS', 'NE.CON.GOVT.ZS']\n"
     ]
    }
   ],
   "source": [
    "# Fuction to automatically remove columns where P-value is below significance level of 5%\n",
    "def backward_elimination(x, X_cols_mod, significance = 0.05):\n",
    "    num_vars = len(x[0])\n",
    "    for i in range(0, num_vars):\n",
    "        regressor_OLS = sm.OLS(endog = y, exog = x).fit()\n",
    "        max_var = max(regressor_OLS.pvalues).astype(float)\n",
    "        if max_var > significance:\n",
    "            for j in range(0, num_vars - i):\n",
    "                if (regressor_OLS.pvalues[j].astype(float) == max_var):\n",
    "                    x = np.delete(x, j, 1)\n",
    "                    X_cols_mod.pop(j)\n",
    "    regressor_OLS.summary()\n",
    "    return x, X_cols_mod\n",
    "             \n",
    "backward_elimination(X_mod1, X_cols_mod1)\n",
    "print(X_cols_mod1)"
   ]
  },
  {
   "cell_type": "code",
   "execution_count": 9,
   "metadata": {},
   "outputs": [
    {
     "data": {
      "image/png": "[encoded data removed]",
      "text/plain": [
       "<Figure size 432x288 with 2 Axes>"
      ]
     },
     "metadata": {},
     "output_type": "display_data"
    }
   ],
   "source": [
    "# Create Correlation Matrix with Seaborn (only remaining columns from backward elimination)\n",
    "\n",
    "# Translate WDI abbreviations into meaningsful indicator descriptions\n",
    "chosen_columns = pd.read_pickle('../data/WDI_chosen_columns.pkl')\n",
    "\n",
    "corr_cols_descr = []\n",
    "for ind in X_cols_mod1:\n",
    "    descr = chosen_columns['Indicator Name'][chosen_columns['Indicator Code'] == ind].to_string(index = False)\n",
    "    corr_cols_descr.append(descr)\n",
    "corr_cols_descr.append('Happy Planet Index')\n",
    "\n",
    "# Import Seaborn and plot Correlation Matrix\n",
    "import seaborn as sns\n",
    "\n",
    "corr_cols = X_cols_mod1.copy()\n",
    "corr_cols.append('Happy Planet Index')\n",
    "corr = dataset[corr_cols].corr()\n",
    "\n",
    "ax = sns.heatmap(\n",
    "    corr, \n",
    "    vmin=-1, vmax=1, center=0,\n",
    "    cmap=sns.diverging_palette(20, 220, n=200),\n",
    "    square=True,\n",
    "    yticklabels = corr_cols_descr,\n",
    "    xticklabels = corr_cols_descr\n",
    ")\n",
    "\n",
    "ax.set_xticklabels(\n",
    "    ax.get_xticklabels(),\n",
    "    rotation=45,\n",
    "    horizontalalignment='right'\n",
    ");"
   ]
  },
  {
   "cell_type": "code",
   "execution_count": 10,
   "metadata": {},
   "outputs": [
    {
     "name": "stdout",
     "output_type": "stream",
     "text": [
      "                            OLS Regression Results                            \n",
      "==============================================================================\n",
      "Dep. Variable:                      y   R-squared:                       0.044\n",
      "Model:                            OLS   Adj. R-squared:                  0.030\n",
      "Method:                 Least Squares   F-statistic:                     3.129\n",
      "Date:                Tue, 03 Mar 2020   Prob (F-statistic):             0.0469\n",
      "Time:                        17:19:42   Log-Likelihood:                -194.13\n",
      "No. Observations:                 139   AIC:                             392.3\n",
      "Df Residuals:                     137   BIC:                             398.1\n",
      "Df Model:                           2                                         \n",
      "Covariance Type:            nonrobust                                         \n",
      "==============================================================================\n",
      "                 coef    std err          t      P>|t|      [0.025      0.975]\n",
      "------------------------------------------------------------------------------\n",
      "x1            -0.1243      0.085     -1.461      0.146      -0.293       0.044\n",
      "x2            -0.1460      0.085     -1.715      0.089      -0.314       0.022\n",
      "==============================================================================\n",
      "Omnibus:                        6.162   Durbin-Watson:                   2.118\n",
      "Prob(Omnibus):                  0.046   Jarque-Bera (JB):                3.030\n",
      "Skew:                           0.031   Prob(JB):                        0.220\n",
      "Kurtosis:                       2.279   Cond. No.                         1.21\n",
      "==============================================================================\n",
      "\n",
      "Warnings:\n",
      "[1] Standard Errors assume that the covariance matrix of the errors is correctly specified.\n",
      "['MS.MIL.XPND.GD.ZS', 'NE.CON.GOVT.ZS', 'GC.TAX.YPKG.RV.ZS']\n"
     ]
    }
   ],
   "source": [
    "# Fuction to automatically remove columns where P-value is below significance level of 5%\n",
    "# and adjusted R² is improved\n",
    "def backward_elimination_r2(x, X_cols_mod, significance = 0.05):\n",
    "    num_vars = len(x[0])\n",
    "    temp = np.zeros((x.shape)).astype(int)\n",
    "    for i in range(0, num_vars):\n",
    "        regressor_OLS = sm.OLS(endog = y, exog = x).fit()\n",
    "        max_var = max(regressor_OLS.pvalues).astype(float)\n",
    "        adjR_before = regressor_OLS.rsquared_adj.astype(float)\n",
    "        if max_var > significance:\n",
    "            for j in range(0, num_vars - i):\n",
    "                if (regressor_OLS.pvalues[j].astype(float) == max_var):\n",
    "                    temp[:,j] = x[:, j]\n",
    "                    x = np.delete(x, j, axis = 1)\n",
    "                    tmp_col = X_cols_mod.pop(j)\n",
    "                    tmp_regressor = sm.OLS(endog = y, exog = x).fit()\n",
    "                    adjR_after = tmp_regressor.rsquared_adj.astype(float)\n",
    "                    if (adjR_before >= adjR_after):\n",
    "                        x_rollback = np.hstack((x, temp[:,[0,j]]))\n",
    "                        x_rollback = np.delete(x_rollback, j, 1)\n",
    "                        X_cols_rollback = X_cols_mod.append(tmp_col)\n",
    "                        #x = np.hstack((x, temp[:,[0,j]]))\n",
    "                        #x = np.delete(x, j, 1)\n",
    "                        #X_cols_mod = X_cols_mod.append(tmp_col)\n",
    "                        print (regressor_OLS.summary())\n",
    "                        return x_rollback, X_cols_rollback\n",
    "                    else:\n",
    "                        continue\n",
    "    regressor_OLS.summary()\n",
    "    return x, X_cols_mod\n",
    "    \n",
    "backward_elimination_r2(X_mod2, X_cols_mod2)\n",
    "print(X_cols_mod2)"
   ]
  },
  {
   "cell_type": "code",
   "execution_count": 11,
   "metadata": {},
   "outputs": [
    {
     "data": {
      "text/html": [
       "<div>\n",
       "<style scoped>\n",
       "    .dataframe tbody tr th:only-of-type {\n",
       "        vertical-align: middle;\n",
       "    }\n",
       "\n",
       "    .dataframe tbody tr th {\n",
       "        vertical-align: top;\n",
       "    }\n",
       "\n",
       "    .dataframe thead th {\n",
       "        text-align: right;\n",
       "    }\n",
       "</style>\n",
       "<table border=\"1\" class=\"dataframe\">\n",
       "  <thead>\n",
       "    <tr style=\"text-align: right;\">\n",
       "      <th></th>\n",
       "      <th>MS.MIL.XPND.GD.ZS</th>\n",
       "      <th>NE.CON.GOVT.ZS</th>\n",
       "      <th>GC.TAX.YPKG.RV.ZS</th>\n",
       "      <th>Happy Planet Index</th>\n",
       "    </tr>\n",
       "  </thead>\n",
       "  <tbody>\n",
       "    <tr>\n",
       "      <th>MS.MIL.XPND.GD.ZS</th>\n",
       "      <td>1.000000</td>\n",
       "      <td>0.190539</td>\n",
       "      <td>-0.038890</td>\n",
       "      <td>-0.152150</td>\n",
       "    </tr>\n",
       "    <tr>\n",
       "      <th>NE.CON.GOVT.ZS</th>\n",
       "      <td>0.190539</td>\n",
       "      <td>1.000000</td>\n",
       "      <td>-0.093349</td>\n",
       "      <td>-0.169664</td>\n",
       "    </tr>\n",
       "    <tr>\n",
       "      <th>GC.TAX.YPKG.RV.ZS</th>\n",
       "      <td>-0.038890</td>\n",
       "      <td>-0.093349</td>\n",
       "      <td>1.000000</td>\n",
       "      <td>0.092528</td>\n",
       "    </tr>\n",
       "    <tr>\n",
       "      <th>Happy Planet Index</th>\n",
       "      <td>-0.152150</td>\n",
       "      <td>-0.169664</td>\n",
       "      <td>0.092528</td>\n",
       "      <td>1.000000</td>\n",
       "    </tr>\n",
       "  </tbody>\n",
       "</table>\n",
       "</div>"
      ],
      "text/plain": [
       "                    MS.MIL.XPND.GD.ZS  NE.CON.GOVT.ZS  GC.TAX.YPKG.RV.ZS  \\\n",
       "MS.MIL.XPND.GD.ZS            1.000000        0.190539          -0.038890   \n",
       "NE.CON.GOVT.ZS               0.190539        1.000000          -0.093349   \n",
       "GC.TAX.YPKG.RV.ZS           -0.038890       -0.093349           1.000000   \n",
       "Happy Planet Index          -0.152150       -0.169664           0.092528   \n",
       "\n",
       "                    Happy Planet Index  \n",
       "MS.MIL.XPND.GD.ZS            -0.152150  \n",
       "NE.CON.GOVT.ZS               -0.169664  \n",
       "GC.TAX.YPKG.RV.ZS             0.092528  \n",
       "Happy Planet Index            1.000000  "
      ]
     },
     "execution_count": 11,
     "metadata": {},
     "output_type": "execute_result"
    },
    {
     "data": {
      "image/png": "[encoded data removed]",
      "text/plain": [
       "<Figure size 432x288 with 2 Axes>"
      ]
     },
     "metadata": {},
     "output_type": "display_data"
    }
   ],
   "source": [
    "# Create Correlation Matrix with Seaborn\n",
    "\n",
    "# Translate WDI abbreviations into meaningsful indicator descriptions\n",
    "corr_cols_descr = []\n",
    "for ind in X_cols_mod2:\n",
    "    descr = chosen_columns['Indicator Name'][chosen_columns['Indicator Code'] == ind].to_string(index = False)\n",
    "    corr_cols_descr.append(descr)\n",
    "corr_cols_descr.append('Happy Planet Index')\n",
    "\n",
    "corr_cols = X_cols_mod2.copy()\n",
    "corr_cols.append('Happy Planet Index')\n",
    "corr = dataset[corr_cols].corr()\n",
    "\n",
    "ax = sns.heatmap(\n",
    "    corr, \n",
    "    vmin=-1, vmax=1, center=0,\n",
    "    cmap=sns.diverging_palette(20, 220, n=200),\n",
    "    square=True,\n",
    "    yticklabels = corr_cols_descr,\n",
    "    xticklabels = corr_cols_descr\n",
    ")\n",
    "ax.set_xticklabels(\n",
    "    ax.get_xticklabels(),\n",
    "    rotation=45,\n",
    "    horizontalalignment='right'\n",
    ");\n",
    "\n",
    "# Save Correlation Matrix to \n",
    "plt.savefig(picture_name, format = 'jpg', optimize = True, bbox_inches = 'tight')\n",
    "\n",
    "# Return Correlation Matrix\n",
    "corr"
   ]
  }
 ],
 "metadata": {
  "kernelspec": {
   "display_name": "Python 3",
   "language": "python",
   "name": "python3"
  },
  "language_info": {
   "codemirror_mode": {
    "name": "ipython",
    "version": 3
   },
   "file_extension": ".py",
   "mimetype": "text/x-python",
   "name": "python",
   "nbconvert_exporter": "python",
   "pygments_lexer": "ipython3",
   "version": "3.6.5"
  }
 },
 "nbformat": 4,
 "nbformat_minor": 2
}
