{
 "cells": [
  {
   "cell_type": "markdown",
   "metadata": {},
   "source": [
    "## Correlation between GDP and HPI\n",
    "### and Linear Regression\n",
    "\n",
    "The purpose of this notebook is to look at the correlation/connection between Gross Domestic Product (GDP) and Happy Planet Index (HPI).\n",
    "\n",
    "The model will be applied to the \"wdi_hpi_2016\" dataset, which was created in the Data Preprocessing JNotebook. This dataset is based on\n",
    "* the Happy Planet Index for 2016 (see https://happyplanetindex.org/),\n",
    "* the World Development Indicators (1960 - 2019) by the World Bank (see https://datacatalog.worldbank.org/dataset/world-development-indicators)"
   ]
  },
  {
   "cell_type": "code",
   "execution_count": 1,
   "metadata": {},
   "outputs": [],
   "source": [
    "# Import standard libraries\n",
    "import numpy as np\n",
    "import pandas as pd\n",
    "import matplotlib.pyplot as plt\n",
    "%matplotlib inline"
   ]
  },
  {
   "cell_type": "code",
   "execution_count": 2,
   "metadata": {},
   "outputs": [],
   "source": [
    "# Import dataset\n",
    "dataset = pd.read_pickle('../data/wdi_hpi_2016_df.pkl')\n",
    "dataset = dataset[['Country Name','NY.GDP.MKTP.KD.ZG', 'NY.GDP.PCAP.PP.CD', 'Happy Planet Index']]"
   ]
  },
  {
   "cell_type": "code",
   "execution_count": 3,
   "metadata": {},
   "outputs": [
    {
     "data": {
      "text/html": [
       "<div>\n",
       "<style scoped>\n",
       "    .dataframe tbody tr th:only-of-type {\n",
       "        vertical-align: middle;\n",
       "    }\n",
       "\n",
       "    .dataframe tbody tr th {\n",
       "        vertical-align: top;\n",
       "    }\n",
       "\n",
       "    .dataframe thead th {\n",
       "        text-align: right;\n",
       "    }\n",
       "</style>\n",
       "<table border=\"1\" class=\"dataframe\">\n",
       "  <thead>\n",
       "    <tr style=\"text-align: right;\">\n",
       "      <th></th>\n",
       "      <th>NY.GDP.MKTP.KD.ZG</th>\n",
       "      <th>NY.GDP.PCAP.PP.CD</th>\n",
       "      <th>Happy Planet Index</th>\n",
       "    </tr>\n",
       "  </thead>\n",
       "  <tbody>\n",
       "    <tr>\n",
       "      <th>NY.GDP.MKTP.KD.ZG</th>\n",
       "      <td>1.000000</td>\n",
       "      <td>-0.064105</td>\n",
       "      <td>0.019509</td>\n",
       "    </tr>\n",
       "    <tr>\n",
       "      <th>NY.GDP.PCAP.PP.CD</th>\n",
       "      <td>-0.064105</td>\n",
       "      <td>1.000000</td>\n",
       "      <td>0.090915</td>\n",
       "    </tr>\n",
       "    <tr>\n",
       "      <th>Happy Planet Index</th>\n",
       "      <td>0.019509</td>\n",
       "      <td>0.090915</td>\n",
       "      <td>1.000000</td>\n",
       "    </tr>\n",
       "  </tbody>\n",
       "</table>\n",
       "</div>"
      ],
      "text/plain": [
       "                    NY.GDP.MKTP.KD.ZG  NY.GDP.PCAP.PP.CD  Happy Planet Index\n",
       "NY.GDP.MKTP.KD.ZG            1.000000          -0.064105            0.019509\n",
       "NY.GDP.PCAP.PP.CD           -0.064105           1.000000            0.090915\n",
       "Happy Planet Index           0.019509           0.090915            1.000000"
      ]
     },
     "execution_count": 3,
     "metadata": {},
     "output_type": "execute_result"
    },
    {
     "data": {
      "image/png": "[encoded data removed]",
      "text/plain": [
       "<Figure size 432x288 with 2 Axes>"
      ]
     },
     "metadata": {},
     "output_type": "display_data"
    }
   ],
   "source": [
    "# Create Correlation Matrix with Seaborn\n",
    "import seaborn as sns\n",
    "\n",
    "corr_cols = ['NY.GDP.MKTP.KD.ZG', 'NY.GDP.PCAP.PP.CD', 'Happy Planet Index']\n",
    "corr = dataset[corr_cols].corr()\n",
    "\n",
    "# Translate WDI abbreviations into meaningsful indicator descriptions\n",
    "chosen_columns = pd.read_pickle('../data/WDI_chosen_columns.pkl')\n",
    "\n",
    "corr_cols_descr = []\n",
    "for ind in corr_cols:\n",
    "    if ind == 'Happy Planet Index':\n",
    "        next\n",
    "    else:\n",
    "        descr = chosen_columns['Indicator Name'][chosen_columns['Indicator Code'] == ind].to_string(index = False)\n",
    "        corr_cols_descr.append(descr)\n",
    "corr_cols_descr.append('Happy Planet Index')\n",
    "\n",
    "# Plot Correlation Matrix\n",
    "ax = sns.heatmap(\n",
    "    corr, \n",
    "    vmin=-1, vmax=1, center=0,\n",
    "    cmap=sns.diverging_palette(20, 220, n=200),\n",
    "    square=True,\n",
    "    yticklabels = corr_cols_descr,\n",
    "    xticklabels = corr_cols_descr\n",
    ")\n",
    "\n",
    "ax.set_xticklabels(\n",
    "    ax.get_xticklabels(),\n",
    "    rotation=45,\n",
    "    horizontalalignment='right'\n",
    ");\n",
    "\n",
    "# Save Correlation Matrix to \n",
    "plt.savefig('../data/pictures/GDP_corr.jpg', format = 'jpg', optimize = True, bbox_inches = 'tight')\n",
    "\n",
    "# Return Correlation Matrix\n",
    "corr"
   ]
  },
  {
   "cell_type": "code",
   "execution_count": 4,
   "metadata": {},
   "outputs": [],
   "source": [
    "# Standardize data for the model\n",
    "from sklearn.preprocessing import StandardScaler\n",
    "scaler = StandardScaler()\n",
    "\n",
    "# Fit dataset to scaler object\n",
    "dataset_scaled = dataset.iloc[:, 1:].values    # Exclude Country column \n",
    "scaler.fit(dataset_scaled)\n",
    "\n",
    "# Transform data into scaled data\n",
    "dataset_scaled = pd.DataFrame(scaler.transform(dataset_scaled))"
   ]
  },
  {
   "cell_type": "code",
   "execution_count": 5,
   "metadata": {},
   "outputs": [],
   "source": [
    "# Split dataset into X (matrix of independent variables) and y (vector of dependent variable)\n",
    "X = dataset_scaled.iloc[:, 1:-1].values\n",
    "y = dataset_scaled.iloc[:, dataset_scaled.shape[1]-1].values\n",
    "\n",
    "# Split datasets into Training set and Test set\n",
    "from sklearn.model_selection import train_test_split\n",
    "X_train, X_test, y_train, y_test = train_test_split(X, y, test_size = 0.0)    # no split, as model is not used for prediction"
   ]
  },
  {
   "cell_type": "code",
   "execution_count": 6,
   "metadata": {},
   "outputs": [
    {
     "data": {
      "text/plain": [
       "LinearRegression(copy_X=True, fit_intercept=True, n_jobs=1, normalize=False)"
      ]
     },
     "execution_count": 6,
     "metadata": {},
     "output_type": "execute_result"
    }
   ],
   "source": [
    "# Fit Multiple Linear Regression Model to the Training set\n",
    "from sklearn.linear_model import LinearRegression\n",
    "regressor = LinearRegression()\n",
    "regressor.fit(X_train, y_train)"
   ]
  },
  {
   "cell_type": "code",
   "execution_count": 7,
   "metadata": {},
   "outputs": [
    {
     "data": {
      "text/html": [
       "<table class=\"simpletable\">\n",
       "<caption>OLS Regression Results</caption>\n",
       "<tr>\n",
       "  <th>Dep. Variable:</th>            <td>y</td>        <th>  R-squared:         </th> <td>   0.008</td>\n",
       "</tr>\n",
       "<tr>\n",
       "  <th>Model:</th>                   <td>OLS</td>       <th>  Adj. R-squared:    </th> <td>   0.001</td>\n",
       "</tr>\n",
       "<tr>\n",
       "  <th>Method:</th>             <td>Least Squares</td>  <th>  F-statistic:       </th> <td>   1.142</td>\n",
       "</tr>\n",
       "<tr>\n",
       "  <th>Date:</th>             <td>Tue, 03 Mar 2020</td> <th>  Prob (F-statistic):</th>  <td> 0.287</td> \n",
       "</tr>\n",
       "<tr>\n",
       "  <th>Time:</th>                 <td>16:42:30</td>     <th>  Log-Likelihood:    </th> <td> -196.66</td>\n",
       "</tr>\n",
       "<tr>\n",
       "  <th>No. Observations:</th>      <td>   139</td>      <th>  AIC:               </th> <td>   397.3</td>\n",
       "</tr>\n",
       "<tr>\n",
       "  <th>Df Residuals:</th>          <td>   137</td>      <th>  BIC:               </th> <td>   403.2</td>\n",
       "</tr>\n",
       "<tr>\n",
       "  <th>Df Model:</th>              <td>     1</td>      <th>                     </th>     <td> </td>   \n",
       "</tr>\n",
       "<tr>\n",
       "  <th>Covariance Type:</th>      <td>nonrobust</td>    <th>                     </th>     <td> </td>   \n",
       "</tr>\n",
       "</table>\n",
       "<table class=\"simpletable\">\n",
       "<tr>\n",
       "    <td></td>       <th>coef</th>     <th>std err</th>      <th>t</th>      <th>P>|t|</th>  <th>[0.025</th>    <th>0.975]</th>  \n",
       "</tr>\n",
       "<tr>\n",
       "  <th>const</th> <td>-2.012e-16</td> <td>    0.085</td> <td>-2.37e-15</td> <td> 1.000</td> <td>   -0.168</td> <td>    0.168</td>\n",
       "</tr>\n",
       "<tr>\n",
       "  <th>x1</th>    <td>    0.0909</td> <td>    0.085</td> <td>    1.069</td> <td> 0.287</td> <td>   -0.077</td> <td>    0.259</td>\n",
       "</tr>\n",
       "</table>\n",
       "<table class=\"simpletable\">\n",
       "<tr>\n",
       "  <th>Omnibus:</th>       <td> 4.383</td> <th>  Durbin-Watson:     </th> <td>   2.173</td>\n",
       "</tr>\n",
       "<tr>\n",
       "  <th>Prob(Omnibus):</th> <td> 0.112</td> <th>  Jarque-Bera (JB):  </th> <td>   2.776</td>\n",
       "</tr>\n",
       "<tr>\n",
       "  <th>Skew:</th>          <td> 0.148</td> <th>  Prob(JB):          </th> <td>   0.250</td>\n",
       "</tr>\n",
       "<tr>\n",
       "  <th>Kurtosis:</th>      <td> 2.374</td> <th>  Cond. No.          </th> <td>    1.00</td>\n",
       "</tr>\n",
       "</table><br/><br/>Warnings:<br/>[1] Standard Errors assume that the covariance matrix of the errors is correctly specified."
      ],
      "text/plain": [
       "<class 'statsmodels.iolib.summary.Summary'>\n",
       "\"\"\"\n",
       "                            OLS Regression Results                            \n",
       "==============================================================================\n",
       "Dep. Variable:                      y   R-squared:                       0.008\n",
       "Model:                            OLS   Adj. R-squared:                  0.001\n",
       "Method:                 Least Squares   F-statistic:                     1.142\n",
       "Date:                Tue, 03 Mar 2020   Prob (F-statistic):              0.287\n",
       "Time:                        16:42:30   Log-Likelihood:                -196.66\n",
       "No. Observations:                 139   AIC:                             397.3\n",
       "Df Residuals:                     137   BIC:                             403.2\n",
       "Df Model:                           1                                         \n",
       "Covariance Type:            nonrobust                                         \n",
       "==============================================================================\n",
       "                 coef    std err          t      P>|t|      [0.025      0.975]\n",
       "------------------------------------------------------------------------------\n",
       "const      -2.012e-16      0.085  -2.37e-15      1.000      -0.168       0.168\n",
       "x1             0.0909      0.085      1.069      0.287      -0.077       0.259\n",
       "==============================================================================\n",
       "Omnibus:                        4.383   Durbin-Watson:                   2.173\n",
       "Prob(Omnibus):                  0.112   Jarque-Bera (JB):                2.776\n",
       "Skew:                           0.148   Prob(JB):                        0.250\n",
       "Kurtosis:                       2.374   Cond. No.                         1.00\n",
       "==============================================================================\n",
       "\n",
       "Warnings:\n",
       "[1] Standard Errors assume that the covariance matrix of the errors is correctly specified.\n",
       "\"\"\""
      ]
     },
     "execution_count": 7,
     "metadata": {},
     "output_type": "execute_result"
    }
   ],
   "source": [
    "# Reduce less important variables with Backward Elimination\n",
    "import statsmodels.regression.linear_model as sm\n",
    "\n",
    "# for statsmodel to understand the multiple linear regression equation a new column with b0 equals one is required (y = b0 + b1*x1 + b2*x2 + ... + bn*xn)\n",
    "X_opt = np.append(arr = np.ones((len(X), 1)).astype(int), values = X, axis = 1)   # Add X to the newly created array of 1s\n",
    "#X_opt = X_opt[:, list(range(X_opt.shape[1]))]\n",
    "\n",
    "X_cols = dataset.columns[1:-1].tolist()    # save headers to determin most important variables later\n",
    "X_cols.insert(0,'b0')\n",
    "\n",
    "X_mod1, X_mod2 = X_opt.copy(), X_opt.copy()\n",
    "X_cols_mod1, X_cols_mod2 = X_cols.copy(), X_cols.copy()\n",
    "\n",
    "regressor_OLS = sm.OLS(endog = y, exog = X_opt).fit()\n",
    "regressor_OLS.summary()"
   ]
  }
 ],
 "metadata": {
  "kernelspec": {
   "display_name": "Python 3",
   "language": "python",
   "name": "python3"
  },
  "language_info": {
   "codemirror_mode": {
    "name": "ipython",
    "version": 3
   },
   "file_extension": ".py",
   "mimetype": "text/x-python",
   "name": "python",
   "nbconvert_exporter": "python",
   "pygments_lexer": "ipython3",
   "version": "3.6.5"
  }
 },
 "nbformat": 4,
 "nbformat_minor": 2
}
