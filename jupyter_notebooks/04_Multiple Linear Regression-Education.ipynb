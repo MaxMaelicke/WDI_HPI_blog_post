{
 "cells": [
  {
   "cell_type": "markdown",
   "metadata": {},
   "source": [
    "## Multiple Linear Regression\n",
    "### and backward elimination\n",
    "#### education indicators\n",
    "\n",
    "The purpose of this notebook is to \n",
    "* apply Multiple Linear Regression to the preprocessed dataset\n",
    "* apply backward elimination to the model\n",
    "* ultimately find out the independent variables (World Development Idicators) which influence the dependent variable (Happy Planet Index) the most.\n",
    "\n",
    "The model will be applied to the \"wdi_hpi_2016_education\" dataset, which was created in the Data Preprocessing JNotebook. This dataset is based on\n",
    "* the Happy Planet Index for 2016 (see https://happyplanetindex.org/),\n",
    "* the World Development Indicators (1960 - 2019) by the World Bank (see https://datacatalog.worldbank.org/dataset/world-development-indicators)"
   ]
  },
  {
   "cell_type": "code",
   "execution_count": 1,
   "metadata": {},
   "outputs": [],
   "source": [
    "# Import standard libraries\n",
    "import numpy as np\n",
    "import pandas as pd\n",
    "import matplotlib.pyplot as plt\n",
    "%matplotlib inline"
   ]
  },
  {
   "cell_type": "code",
   "execution_count": 2,
   "metadata": {},
   "outputs": [],
   "source": [
    "# Import dataset\n",
    "dataset = pd.read_pickle('../data/wdi_hpi_2016_education.pkl')\n",
    "picture_name = '../data/pictures/Education_corr.jpg'"
   ]
  },
  {
   "cell_type": "code",
   "execution_count": 3,
   "metadata": {},
   "outputs": [],
   "source": [
    "# Standardize data for the model\n",
    "from sklearn.preprocessing import StandardScaler\n",
    "scaler = StandardScaler()\n",
    "\n",
    "# Fit dataset to scaler object\n",
    "dataset_scaled = dataset.iloc[:, 1:].values    # Exclude Country column \n",
    "scaler.fit(dataset_scaled)\n",
    "\n",
    "# Transform data into scaled data\n",
    "dataset_scaled = pd.DataFrame(scaler.transform(dataset_scaled))"
   ]
  },
  {
   "cell_type": "code",
   "execution_count": 4,
   "metadata": {},
   "outputs": [],
   "source": [
    "# Split dataset into X (matrix of independent variables) and y (vector of dependent variable)\n",
    "X = dataset_scaled.iloc[:, 1:-1].values\n",
    "y = dataset_scaled.iloc[:, dataset_scaled.shape[1]-1].values\n",
    "\n",
    "# Split datasets into Training set and Test set\n",
    "from sklearn.model_selection import train_test_split\n",
    "X_train, X_test, y_train, y_test = train_test_split(X, y, test_size = 0.0)    # no split, as model is not used for prediction"
   ]
  },
  {
   "cell_type": "code",
   "execution_count": 5,
   "metadata": {},
   "outputs": [
    {
     "data": {
      "text/plain": [
       "LinearRegression(copy_X=True, fit_intercept=True, n_jobs=1, normalize=False)"
      ]
     },
     "execution_count": 5,
     "metadata": {},
     "output_type": "execute_result"
    }
   ],
   "source": [
    "# Fit Multiple Linear Regression Model to the Training set\n",
    "from sklearn.linear_model import LinearRegression\n",
    "regressor = LinearRegression()\n",
    "regressor.fit(X_train, y_train)"
   ]
  },
  {
   "cell_type": "code",
   "execution_count": 6,
   "metadata": {},
   "outputs": [],
   "source": [
    "# Predict the Test set results\n",
    "#y_pred = regressor.predict(X_test)"
   ]
  },
  {
   "cell_type": "code",
   "execution_count": 7,
   "metadata": {},
   "outputs": [
    {
     "data": {
      "text/html": [
       "<table class=\"simpletable\">\n",
       "<caption>OLS Regression Results</caption>\n",
       "<tr>\n",
       "  <th>Dep. Variable:</th>            <td>y</td>        <th>  R-squared:         </th> <td>   0.249</td>\n",
       "</tr>\n",
       "<tr>\n",
       "  <th>Model:</th>                   <td>OLS</td>       <th>  Adj. R-squared:    </th> <td>   0.215</td>\n",
       "</tr>\n",
       "<tr>\n",
       "  <th>Method:</th>             <td>Least Squares</td>  <th>  F-statistic:       </th> <td>   7.312</td>\n",
       "</tr>\n",
       "<tr>\n",
       "  <th>Date:</th>             <td>Tue, 03 Mar 2020</td> <th>  Prob (F-statistic):</th> <td>9.24e-07</td>\n",
       "</tr>\n",
       "<tr>\n",
       "  <th>Time:</th>                 <td>17:19:33</td>     <th>  Log-Likelihood:    </th> <td> -177.29</td>\n",
       "</tr>\n",
       "<tr>\n",
       "  <th>No. Observations:</th>      <td>   139</td>      <th>  AIC:               </th> <td>   368.6</td>\n",
       "</tr>\n",
       "<tr>\n",
       "  <th>Df Residuals:</th>          <td>   132</td>      <th>  BIC:               </th> <td>   389.1</td>\n",
       "</tr>\n",
       "<tr>\n",
       "  <th>Df Model:</th>              <td>     6</td>      <th>                     </th>     <td> </td>   \n",
       "</tr>\n",
       "<tr>\n",
       "  <th>Covariance Type:</th>      <td>nonrobust</td>    <th>                     </th>     <td> </td>   \n",
       "</tr>\n",
       "</table>\n",
       "<table class=\"simpletable\">\n",
       "<tr>\n",
       "    <td></td>       <th>coef</th>     <th>std err</th>      <th>t</th>      <th>P>|t|</th>  <th>[0.025</th>    <th>0.975]</th>  \n",
       "</tr>\n",
       "<tr>\n",
       "  <th>const</th> <td>-2.012e-16</td> <td>    0.075</td> <td>-2.67e-15</td> <td> 1.000</td> <td>   -0.149</td> <td>    0.149</td>\n",
       "</tr>\n",
       "<tr>\n",
       "  <th>x1</th>    <td>    0.4630</td> <td>    0.102</td> <td>    4.543</td> <td> 0.000</td> <td>    0.261</td> <td>    0.665</td>\n",
       "</tr>\n",
       "<tr>\n",
       "  <th>x2</th>    <td>   -0.1248</td> <td>    0.082</td> <td>   -1.515</td> <td> 0.132</td> <td>   -0.288</td> <td>    0.038</td>\n",
       "</tr>\n",
       "<tr>\n",
       "  <th>x3</th>    <td>    0.0963</td> <td>    0.120</td> <td>    0.800</td> <td> 0.425</td> <td>   -0.142</td> <td>    0.335</td>\n",
       "</tr>\n",
       "<tr>\n",
       "  <th>x4</th>    <td>   -0.0401</td> <td>    0.099</td> <td>   -0.404</td> <td> 0.687</td> <td>   -0.236</td> <td>    0.156</td>\n",
       "</tr>\n",
       "<tr>\n",
       "  <th>x5</th>    <td>    0.1248</td> <td>    0.089</td> <td>    1.402</td> <td> 0.163</td> <td>   -0.051</td> <td>    0.301</td>\n",
       "</tr>\n",
       "<tr>\n",
       "  <th>x6</th>    <td>    0.0125</td> <td>    0.091</td> <td>    0.137</td> <td> 0.891</td> <td>   -0.168</td> <td>    0.193</td>\n",
       "</tr>\n",
       "</table>\n",
       "<table class=\"simpletable\">\n",
       "<tr>\n",
       "  <th>Omnibus:</th>       <td> 1.962</td> <th>  Durbin-Watson:     </th> <td>   2.159</td>\n",
       "</tr>\n",
       "<tr>\n",
       "  <th>Prob(Omnibus):</th> <td> 0.375</td> <th>  Jarque-Bera (JB):  </th> <td>   1.687</td>\n",
       "</tr>\n",
       "<tr>\n",
       "  <th>Skew:</th>          <td> 0.137</td> <th>  Prob(JB):          </th> <td>   0.430</td>\n",
       "</tr>\n",
       "<tr>\n",
       "  <th>Kurtosis:</th>      <td> 2.535</td> <th>  Cond. No.          </th> <td>    2.93</td>\n",
       "</tr>\n",
       "</table><br/><br/>Warnings:<br/>[1] Standard Errors assume that the covariance matrix of the errors is correctly specified."
      ],
      "text/plain": [
       "<class 'statsmodels.iolib.summary.Summary'>\n",
       "\"\"\"\n",
       "                            OLS Regression Results                            \n",
       "==============================================================================\n",
       "Dep. Variable:                      y   R-squared:                       0.249\n",
       "Model:                            OLS   Adj. R-squared:                  0.215\n",
       "Method:                 Least Squares   F-statistic:                     7.312\n",
       "Date:                Tue, 03 Mar 2020   Prob (F-statistic):           9.24e-07\n",
       "Time:                        17:19:33   Log-Likelihood:                -177.29\n",
       "No. Observations:                 139   AIC:                             368.6\n",
       "Df Residuals:                     132   BIC:                             389.1\n",
       "Df Model:                           6                                         \n",
       "Covariance Type:            nonrobust                                         \n",
       "==============================================================================\n",
       "                 coef    std err          t      P>|t|      [0.025      0.975]\n",
       "------------------------------------------------------------------------------\n",
       "const      -2.012e-16      0.075  -2.67e-15      1.000      -0.149       0.149\n",
       "x1             0.4630      0.102      4.543      0.000       0.261       0.665\n",
       "x2            -0.1248      0.082     -1.515      0.132      -0.288       0.038\n",
       "x3             0.0963      0.120      0.800      0.425      -0.142       0.335\n",
       "x4            -0.0401      0.099     -0.404      0.687      -0.236       0.156\n",
       "x5             0.1248      0.089      1.402      0.163      -0.051       0.301\n",
       "x6             0.0125      0.091      0.137      0.891      -0.168       0.193\n",
       "==============================================================================\n",
       "Omnibus:                        1.962   Durbin-Watson:                   2.159\n",
       "Prob(Omnibus):                  0.375   Jarque-Bera (JB):                1.687\n",
       "Skew:                           0.137   Prob(JB):                        0.430\n",
       "Kurtosis:                       2.535   Cond. No.                         2.93\n",
       "==============================================================================\n",
       "\n",
       "Warnings:\n",
       "[1] Standard Errors assume that the covariance matrix of the errors is correctly specified.\n",
       "\"\"\""
      ]
     },
     "execution_count": 7,
     "metadata": {},
     "output_type": "execute_result"
    }
   ],
   "source": [
    "# Reduce less important variables with Backward Elimination\n",
    "import statsmodels.regression.linear_model as sm\n",
    "\n",
    "# for statsmodel to understand the multiple linear regression equation a new column with b0 equals one is required (y = b0 + b1*x1 + b2*x2 + ... + bn*xn)\n",
    "X_opt = np.append(arr = np.ones((len(X), 1)).astype(int), values = X, axis = 1)   # Add X to the newly created array of 1s\n",
    "#X_opt = X_opt[:, list(range(X_opt.shape[1]))]\n",
    "\n",
    "X_cols = dataset.columns[1:-1].tolist()    # save headers to determin most important variables later\n",
    "X_cols.insert(0,'b0')\n",
    "\n",
    "X_mod1, X_mod2 = X_opt.copy(), X_opt.copy()\n",
    "X_cols_mod1, X_cols_mod2 = X_cols.copy(), X_cols.copy()\n",
    "\n",
    "regressor_OLS = sm.OLS(endog = y, exog = X_opt).fit()\n",
    "regressor_OLS.summary()"
   ]
  },
  {
   "cell_type": "code",
   "execution_count": 8,
   "metadata": {},
   "outputs": [
    {
     "name": "stdout",
     "output_type": "stream",
     "text": [
      "['SE.COM.DURS', 'SE.XPD.TOTL.GD.ZS']\n"
     ]
    }
   ],
   "source": [
    "# Fuction to automatically remove columns where P-value is below significance level of 5%\n",
    "def backward_elimination(x, X_cols_mod, significance = 0.05):\n",
    "    num_vars = len(x[0])\n",
    "    for i in range(0, num_vars):\n",
    "        regressor_OLS = sm.OLS(endog = y, exog = x).fit()\n",
    "        max_var = max(regressor_OLS.pvalues).astype(float)\n",
    "        if max_var > significance:\n",
    "            for j in range(0, num_vars - i):\n",
    "                if (regressor_OLS.pvalues[j].astype(float) == max_var):\n",
    "                    x = np.delete(x, j, 1)\n",
    "                    X_cols_mod.pop(j)\n",
    "    regressor_OLS.summary()\n",
    "    return x, X_cols_mod\n",
    "             \n",
    "backward_elimination(X_mod1, X_cols_mod1)\n",
    "print(X_cols_mod1)"
   ]
  },
  {
   "cell_type": "code",
   "execution_count": 9,
   "metadata": {},
   "outputs": [
    {
     "data": {
      "image/png": "[encoded data removed]",
      "text/plain": [
       "<Figure size 432x288 with 2 Axes>"
      ]
     },
     "metadata": {},
     "output_type": "display_data"
    }
   ],
   "source": [
    "# Create Correlation Matrix with Seaborn (only remaining columns from backward elimination)\n",
    "\n",
    "# Translate WDI abbreviations into meaningsful indicator descriptions\n",
    "chosen_columns = pd.read_pickle('../data/WDI_chosen_columns.pkl')\n",
    "\n",
    "corr_cols_descr = []\n",
    "for ind in X_cols_mod1:\n",
    "    descr = chosen_columns['Indicator Name'][chosen_columns['Indicator Code'] == ind].to_string(index = False)\n",
    "    corr_cols_descr.append(descr)\n",
    "corr_cols_descr.append('Happy Planet Index')\n",
    "\n",
    "# Import Seaborn and plot Correlation Matrix\n",
    "import seaborn as sns\n",
    "\n",
    "corr_cols = X_cols_mod1.copy()\n",
    "corr_cols.append('Happy Planet Index')\n",
    "corr = dataset[corr_cols].corr()\n",
    "\n",
    "ax = sns.heatmap(\n",
    "    corr, \n",
    "    vmin=-1, vmax=1, center=0,\n",
    "    cmap=sns.diverging_palette(20, 220, n=200),\n",
    "    square=True,\n",
    "    yticklabels = corr_cols_descr,\n",
    "    xticklabels = corr_cols_descr\n",
    ")\n",
    "\n",
    "ax.set_xticklabels(\n",
    "    ax.get_xticklabels(),\n",
    "    rotation=45,\n",
    "    horizontalalignment='right'\n",
    ");"
   ]
  },
  {
   "cell_type": "code",
   "execution_count": 10,
   "metadata": {},
   "outputs": [
    {
     "name": "stdout",
     "output_type": "stream",
     "text": [
      "                            OLS Regression Results                            \n",
      "==============================================================================\n",
      "Dep. Variable:                      y   R-squared:                       0.245\n",
      "Model:                            OLS   Adj. R-squared:                  0.228\n",
      "Method:                 Least Squares   F-statistic:                     14.70\n",
      "Date:                Tue, 03 Mar 2020   Prob (F-statistic):           2.40e-08\n",
      "Time:                        17:19:33   Log-Likelihood:                -177.71\n",
      "No. Observations:                 139   AIC:                             361.4\n",
      "Df Residuals:                     136   BIC:                             370.2\n",
      "Df Model:                           3                                         \n",
      "Covariance Type:            nonrobust                                         \n",
      "==============================================================================\n",
      "                 coef    std err          t      P>|t|      [0.025      0.975]\n",
      "------------------------------------------------------------------------------\n",
      "x1             0.5135      0.078      6.559      0.000       0.359       0.668\n",
      "x2            -0.1273      0.078     -1.626      0.106      -0.282       0.028\n",
      "x3             0.1239      0.075      1.648      0.102      -0.025       0.273\n",
      "==============================================================================\n",
      "Omnibus:                        2.261   Durbin-Watson:                   2.158\n",
      "Prob(Omnibus):                  0.323   Jarque-Bera (JB):                1.917\n",
      "Skew:                           0.161   Prob(JB):                        0.384\n",
      "Kurtosis:                       2.524   Cond. No.                         1.38\n",
      "==============================================================================\n",
      "\n",
      "Warnings:\n",
      "[1] Standard Errors assume that the covariance matrix of the errors is correctly specified.\n",
      "['SE.COM.DURS', 'SE.TER.ENRR', 'SE.XPD.TOTL.GD.ZS', 'SE.PRM.CMPT.ZS']\n"
     ]
    }
   ],
   "source": [
    "# Fuction to automatically remove columns where P-value is below significance level of 5%\n",
    "# and adjusted R² is improved\n",
    "def backward_elimination_r2(x, X_cols_mod, significance = 0.05):\n",
    "    num_vars = len(x[0])\n",
    "    temp = np.zeros((x.shape)).astype(int)\n",
    "    for i in range(0, num_vars):\n",
    "        regressor_OLS = sm.OLS(endog = y, exog = x).fit()\n",
    "        max_var = max(regressor_OLS.pvalues).astype(float)\n",
    "        adjR_before = regressor_OLS.rsquared_adj.astype(float)\n",
    "        if max_var > significance:\n",
    "            for j in range(0, num_vars - i):\n",
    "                if (regressor_OLS.pvalues[j].astype(float) == max_var):\n",
    "                    temp[:,j] = x[:, j]\n",
    "                    x = np.delete(x, j, axis = 1)\n",
    "                    tmp_col = X_cols_mod.pop(j)\n",
    "                    tmp_regressor = sm.OLS(endog = y, exog = x).fit()\n",
    "                    adjR_after = tmp_regressor.rsquared_adj.astype(float)\n",
    "                    if (adjR_before >= adjR_after):\n",
    "                        x_rollback = np.hstack((x, temp[:,[0,j]]))\n",
    "                        x_rollback = np.delete(x_rollback, j, 1)\n",
    "                        X_cols_rollback = X_cols_mod.append(tmp_col)\n",
    "                        #x = np.hstack((x, temp[:,[0,j]]))\n",
    "                        #x = np.delete(x, j, 1)\n",
    "                        #X_cols_mod = X_cols_mod.append(tmp_col)\n",
    "                        print (regressor_OLS.summary())\n",
    "                        return x_rollback, X_cols_rollback\n",
    "                    else:\n",
    "                        continue\n",
    "    regressor_OLS.summary()\n",
    "    return x, X_cols_mod\n",
    "    \n",
    "backward_elimination_r2(X_mod2, X_cols_mod2)\n",
    "print(X_cols_mod2)"
   ]
  },
  {
   "cell_type": "code",
   "execution_count": 11,
   "metadata": {},
   "outputs": [
    {
     "data": {
      "text/html": [
       "<div>\n",
       "<style scoped>\n",
       "    .dataframe tbody tr th:only-of-type {\n",
       "        vertical-align: middle;\n",
       "    }\n",
       "\n",
       "    .dataframe tbody tr th {\n",
       "        vertical-align: top;\n",
       "    }\n",
       "\n",
       "    .dataframe thead th {\n",
       "        text-align: right;\n",
       "    }\n",
       "</style>\n",
       "<table border=\"1\" class=\"dataframe\">\n",
       "  <thead>\n",
       "    <tr style=\"text-align: right;\">\n",
       "      <th></th>\n",
       "      <th>SE.COM.DURS</th>\n",
       "      <th>SE.TER.ENRR</th>\n",
       "      <th>SE.XPD.TOTL.GD.ZS</th>\n",
       "      <th>SE.PRM.CMPT.ZS</th>\n",
       "      <th>Happy Planet Index</th>\n",
       "    </tr>\n",
       "  </thead>\n",
       "  <tbody>\n",
       "    <tr>\n",
       "      <th>SE.COM.DURS</th>\n",
       "      <td>1.000000</td>\n",
       "      <td>0.126104</td>\n",
       "      <td>0.180806</td>\n",
       "      <td>0.204705</td>\n",
       "      <td>0.273462</td>\n",
       "    </tr>\n",
       "    <tr>\n",
       "      <th>SE.TER.ENRR</th>\n",
       "      <td>0.126104</td>\n",
       "      <td>1.000000</td>\n",
       "      <td>0.210085</td>\n",
       "      <td>0.318105</td>\n",
       "      <td>0.152237</td>\n",
       "    </tr>\n",
       "    <tr>\n",
       "      <th>SE.XPD.TOTL.GD.ZS</th>\n",
       "      <td>0.180806</td>\n",
       "      <td>0.210085</td>\n",
       "      <td>1.000000</td>\n",
       "      <td>0.228729</td>\n",
       "      <td>0.186278</td>\n",
       "    </tr>\n",
       "    <tr>\n",
       "      <th>SE.PRM.CMPT.ZS</th>\n",
       "      <td>0.204705</td>\n",
       "      <td>0.318105</td>\n",
       "      <td>0.228729</td>\n",
       "      <td>1.000000</td>\n",
       "      <td>0.466892</td>\n",
       "    </tr>\n",
       "    <tr>\n",
       "      <th>Happy Planet Index</th>\n",
       "      <td>0.273462</td>\n",
       "      <td>0.152237</td>\n",
       "      <td>0.186278</td>\n",
       "      <td>0.466892</td>\n",
       "      <td>1.000000</td>\n",
       "    </tr>\n",
       "  </tbody>\n",
       "</table>\n",
       "</div>"
      ],
      "text/plain": [
       "                    SE.COM.DURS  SE.TER.ENRR  SE.XPD.TOTL.GD.ZS  \\\n",
       "SE.COM.DURS            1.000000     0.126104           0.180806   \n",
       "SE.TER.ENRR            0.126104     1.000000           0.210085   \n",
       "SE.XPD.TOTL.GD.ZS      0.180806     0.210085           1.000000   \n",
       "SE.PRM.CMPT.ZS         0.204705     0.318105           0.228729   \n",
       "Happy Planet Index     0.273462     0.152237           0.186278   \n",
       "\n",
       "                    SE.PRM.CMPT.ZS  Happy Planet Index  \n",
       "SE.COM.DURS               0.204705            0.273462  \n",
       "SE.TER.ENRR               0.318105            0.152237  \n",
       "SE.XPD.TOTL.GD.ZS         0.228729            0.186278  \n",
       "SE.PRM.CMPT.ZS            1.000000            0.466892  \n",
       "Happy Planet Index        0.466892            1.000000  "
      ]
     },
     "execution_count": 11,
     "metadata": {},
     "output_type": "execute_result"
    },
    {
     "data": {
      "image/png": "[encoded data removed]",
      "text/plain": [
       "<Figure size 432x288 with 2 Axes>"
      ]
     },
     "metadata": {},
     "output_type": "display_data"
    }
   ],
   "source": [
    "# Create Correlation Matrix with Seaborn\n",
    "\n",
    "# Translate WDI abbreviations into meaningsful indicator descriptions\n",
    "corr_cols_descr = []\n",
    "for ind in X_cols_mod2:\n",
    "    descr = chosen_columns['Indicator Name'][chosen_columns['Indicator Code'] == ind].to_string(index = False)\n",
    "    corr_cols_descr.append(descr)\n",
    "corr_cols_descr.append('Happy Planet Index')\n",
    "\n",
    "corr_cols = X_cols_mod2.copy()\n",
    "corr_cols.append('Happy Planet Index')\n",
    "corr = dataset[corr_cols].corr()\n",
    "\n",
    "ax = sns.heatmap(\n",
    "    corr, \n",
    "    vmin=-1, vmax=1, center=0,\n",
    "    cmap=sns.diverging_palette(20, 220, n=200),\n",
    "    square=True,\n",
    "    yticklabels = corr_cols_descr,\n",
    "    xticklabels = corr_cols_descr\n",
    ")\n",
    "ax.set_xticklabels(\n",
    "    ax.get_xticklabels(),\n",
    "    rotation=45,\n",
    "    horizontalalignment='right'\n",
    ");\n",
    "\n",
    "# Save Correlation Matrix to \n",
    "plt.savefig(picture_name, format = 'jpg', optimize = True, bbox_inches = 'tight')\n",
    "\n",
    "# Return Correlation Matrix\n",
    "corr"
   ]
  }
 ],
 "metadata": {
  "kernelspec": {
   "display_name": "Python 3",
   "language": "python",
   "name": "python3"
  },
  "language_info": {
   "codemirror_mode": {
    "name": "ipython",
    "version": 3
   },
   "file_extension": ".py",
   "mimetype": "text/x-python",
   "name": "python",
   "nbconvert_exporter": "python",
   "pygments_lexer": "ipython3",
   "version": "3.6.5"
  }
 },
 "nbformat": 4,
 "nbformat_minor": 2
}
