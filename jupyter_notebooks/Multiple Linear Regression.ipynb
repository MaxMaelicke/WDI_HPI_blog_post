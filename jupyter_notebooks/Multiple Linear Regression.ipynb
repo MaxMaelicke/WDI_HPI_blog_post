{
 "cells": [
  {
   "cell_type": "markdown",
   "metadata": {},
   "source": [
    "## Multiple Linear Regression\n",
    "### and backward elimination\n",
    "\n",
    "The purpose of this notebook is to \n",
    "* apply Multiple Linear Regression to the preprocessed dataset\n",
    "* apply backward elimination to the model\n",
    "* ultimately find out the independent variables (World Development Idicators) which influence the dependent variable (Happy Planet Index) the most.\n",
    "\n",
    "The model will be applied to the \"wdi_hpi_2016_df\" dataset, which was created in the Data Preprocessing JNotebook. This dataset is based on\n",
    "* the Happy Planet Index for 2016 (see https://happyplanetindex.org/),\n",
    "* the World Development Indicators (1960 - 2019) by the World Bank (see https://datacatalog.worldbank.org/dataset/world-development-indicators)"
   ]
  },
  {
   "cell_type": "code",
   "execution_count": 1,
   "metadata": {},
   "outputs": [],
   "source": [
    "# Import standard libraries\n",
    "import numpy as np\n",
    "import pandas as pd\n",
    "import matplotlib.pyplot as plt\n",
    "%matplotlib inline"
   ]
  },
  {
   "cell_type": "code",
   "execution_count": 2,
   "metadata": {},
   "outputs": [],
   "source": [
    "# Import dataset\n",
    "dataset = pd.read_pickle('../data/wdi_hpi_2016_economics.pkl')"
   ]
  },
  {
   "cell_type": "code",
   "execution_count": 3,
   "metadata": {},
   "outputs": [],
   "source": [
    "# Standardize data for the model\n",
    "from sklearn.preprocessing import StandardScaler\n",
    "scaler = StandardScaler()\n",
    "\n",
    "# Fit dataset to scaler object\n",
    "dataset_scaled = dataset.iloc[:, 1:].values    # Exclude Country column \n",
    "scaler.fit(dataset_scaled)\n",
    "\n",
    "# Transform data into scaled data\n",
    "dataset_scaled = pd.DataFrame(scaler.transform(dataset_scaled))"
   ]
  },
  {
   "cell_type": "code",
   "execution_count": 4,
   "metadata": {},
   "outputs": [],
   "source": [
    "# Split dataset into X (matrix of independent variables) and y (vector of dependent variable)\n",
    "X = dataset_scaled.iloc[:, 1:-1].values\n",
    "y = dataset_scaled.iloc[:, dataset_scaled.shape[1]-1].values\n",
    "\n",
    "# Split datasets into Training set and Test set\n",
    "from sklearn.model_selection import train_test_split\n",
    "X_train, X_test, y_train, y_test = train_test_split(X, y, test_size = 0.0)    # no split, as model is not used for prediction"
   ]
  },
  {
   "cell_type": "code",
   "execution_count": 5,
   "metadata": {},
   "outputs": [
    {
     "data": {
      "text/plain": [
       "LinearRegression(copy_X=True, fit_intercept=True, n_jobs=1, normalize=False)"
      ]
     },
     "execution_count": 5,
     "metadata": {},
     "output_type": "execute_result"
    }
   ],
   "source": [
    "# Fit Multiple Linear Regression Model to the Training set\n",
    "from sklearn.linear_model import LinearRegression\n",
    "regressor = LinearRegression()\n",
    "regressor.fit(X_train, y_train)"
   ]
  },
  {
   "cell_type": "code",
   "execution_count": 6,
   "metadata": {},
   "outputs": [],
   "source": [
    "# Predict the Test set results\n",
    "#y_pred = regressor.predict(X_test)"
   ]
  },
  {
   "cell_type": "code",
   "execution_count": 7,
   "metadata": {},
   "outputs": [
    {
     "data": {
      "text/html": [
       "<table class=\"simpletable\">\n",
       "<caption>OLS Regression Results</caption>\n",
       "<tr>\n",
       "  <th>Dep. Variable:</th>            <td>y</td>        <th>  R-squared:         </th> <td>   0.165</td>\n",
       "</tr>\n",
       "<tr>\n",
       "  <th>Model:</th>                   <td>OLS</td>       <th>  Adj. R-squared:    </th> <td>   0.106</td>\n",
       "</tr>\n",
       "<tr>\n",
       "  <th>Method:</th>             <td>Least Squares</td>  <th>  F-statistic:       </th> <td>   2.826</td>\n",
       "</tr>\n",
       "<tr>\n",
       "  <th>Date:</th>             <td>Fri, 14 Feb 2020</td> <th>  Prob (F-statistic):</th>  <td>0.00458</td>\n",
       "</tr>\n",
       "<tr>\n",
       "  <th>Time:</th>                 <td>10:37:25</td>     <th>  Log-Likelihood:    </th> <td> -184.73</td>\n",
       "</tr>\n",
       "<tr>\n",
       "  <th>No. Observations:</th>      <td>   139</td>      <th>  AIC:               </th> <td>   389.5</td>\n",
       "</tr>\n",
       "<tr>\n",
       "  <th>Df Residuals:</th>          <td>   129</td>      <th>  BIC:               </th> <td>   418.8</td>\n",
       "</tr>\n",
       "<tr>\n",
       "  <th>Df Model:</th>              <td>     9</td>      <th>                     </th>     <td> </td>   \n",
       "</tr>\n",
       "<tr>\n",
       "  <th>Covariance Type:</th>      <td>nonrobust</td>    <th>                     </th>     <td> </td>   \n",
       "</tr>\n",
       "</table>\n",
       "<table class=\"simpletable\">\n",
       "<tr>\n",
       "    <td></td>       <th>coef</th>     <th>std err</th>      <th>t</th>      <th>P>|t|</th>  <th>[0.025</th>    <th>0.975]</th>  \n",
       "</tr>\n",
       "<tr>\n",
       "  <th>const</th> <td>-2.012e-16</td> <td>    0.080</td> <td> -2.5e-15</td> <td> 1.000</td> <td>   -0.159</td> <td>    0.159</td>\n",
       "</tr>\n",
       "<tr>\n",
       "  <th>x1</th>    <td>   -0.0339</td> <td>    0.097</td> <td>   -0.348</td> <td> 0.728</td> <td>   -0.226</td> <td>    0.159</td>\n",
       "</tr>\n",
       "<tr>\n",
       "  <th>x2</th>    <td>   -0.1219</td> <td>    0.091</td> <td>   -1.334</td> <td> 0.185</td> <td>   -0.303</td> <td>    0.059</td>\n",
       "</tr>\n",
       "<tr>\n",
       "  <th>x3</th>    <td>-1.203e+13</td> <td> 2.58e+13</td> <td>   -0.466</td> <td> 0.642</td> <td>-6.31e+13</td> <td> 3.91e+13</td>\n",
       "</tr>\n",
       "<tr>\n",
       "  <th>x4</th>    <td> -3.04e+12</td> <td> 6.53e+12</td> <td>   -0.466</td> <td> 0.642</td> <td> -1.6e+13</td> <td> 9.88e+12</td>\n",
       "</tr>\n",
       "<tr>\n",
       "  <th>x5</th>    <td> 1.227e+13</td> <td> 2.63e+13</td> <td>    0.466</td> <td> 0.642</td> <td>-3.99e+13</td> <td> 6.44e+13</td>\n",
       "</tr>\n",
       "<tr>\n",
       "  <th>x6</th>    <td>   -0.3692</td> <td>    0.117</td> <td>   -3.163</td> <td> 0.002</td> <td>   -0.600</td> <td>   -0.138</td>\n",
       "</tr>\n",
       "<tr>\n",
       "  <th>x7</th>    <td>    0.1566</td> <td>    0.104</td> <td>    1.504</td> <td> 0.135</td> <td>   -0.049</td> <td>    0.363</td>\n",
       "</tr>\n",
       "<tr>\n",
       "  <th>x8</th>    <td>   -0.1386</td> <td>    0.103</td> <td>   -1.346</td> <td> 0.181</td> <td>   -0.342</td> <td>    0.065</td>\n",
       "</tr>\n",
       "<tr>\n",
       "  <th>x9</th>    <td>    0.0779</td> <td>    0.082</td> <td>    0.954</td> <td> 0.342</td> <td>   -0.084</td> <td>    0.239</td>\n",
       "</tr>\n",
       "<tr>\n",
       "  <th>x10</th>   <td>   -0.0010</td> <td>    0.150</td> <td>   -0.007</td> <td> 0.995</td> <td>   -0.298</td> <td>    0.296</td>\n",
       "</tr>\n",
       "</table>\n",
       "<table class=\"simpletable\">\n",
       "<tr>\n",
       "  <th>Omnibus:</th>       <td> 1.557</td> <th>  Durbin-Watson:     </th> <td>   2.180</td>\n",
       "</tr>\n",
       "<tr>\n",
       "  <th>Prob(Omnibus):</th> <td> 0.459</td> <th>  Jarque-Bera (JB):  </th> <td>   1.446</td>\n",
       "</tr>\n",
       "<tr>\n",
       "  <th>Skew:</th>          <td> 0.132</td> <th>  Prob(JB):          </th> <td>   0.485</td>\n",
       "</tr>\n",
       "<tr>\n",
       "  <th>Kurtosis:</th>      <td> 2.576</td> <th>  Cond. No.          </th> <td>7.91e+14</td>\n",
       "</tr>\n",
       "</table><br/><br/>Warnings:<br/>[1] Standard Errors assume that the covariance matrix of the errors is correctly specified.<br/>[2] The smallest eigenvalue is 6.41e-28. This might indicate that there are<br/>strong multicollinearity problems or that the design matrix is singular."
      ],
      "text/plain": [
       "<class 'statsmodels.iolib.summary.Summary'>\n",
       "\"\"\"\n",
       "                            OLS Regression Results                            \n",
       "==============================================================================\n",
       "Dep. Variable:                      y   R-squared:                       0.165\n",
       "Model:                            OLS   Adj. R-squared:                  0.106\n",
       "Method:                 Least Squares   F-statistic:                     2.826\n",
       "Date:                Fri, 14 Feb 2020   Prob (F-statistic):            0.00458\n",
       "Time:                        10:37:25   Log-Likelihood:                -184.73\n",
       "No. Observations:                 139   AIC:                             389.5\n",
       "Df Residuals:                     129   BIC:                             418.8\n",
       "Df Model:                           9                                         \n",
       "Covariance Type:            nonrobust                                         \n",
       "==============================================================================\n",
       "                 coef    std err          t      P>|t|      [0.025      0.975]\n",
       "------------------------------------------------------------------------------\n",
       "const      -2.012e-16      0.080   -2.5e-15      1.000      -0.159       0.159\n",
       "x1            -0.0339      0.097     -0.348      0.728      -0.226       0.159\n",
       "x2            -0.1219      0.091     -1.334      0.185      -0.303       0.059\n",
       "x3         -1.203e+13   2.58e+13     -0.466      0.642   -6.31e+13    3.91e+13\n",
       "x4          -3.04e+12   6.53e+12     -0.466      0.642    -1.6e+13    9.88e+12\n",
       "x5          1.227e+13   2.63e+13      0.466      0.642   -3.99e+13    6.44e+13\n",
       "x6            -0.3692      0.117     -3.163      0.002      -0.600      -0.138\n",
       "x7             0.1566      0.104      1.504      0.135      -0.049       0.363\n",
       "x8            -0.1386      0.103     -1.346      0.181      -0.342       0.065\n",
       "x9             0.0779      0.082      0.954      0.342      -0.084       0.239\n",
       "x10           -0.0010      0.150     -0.007      0.995      -0.298       0.296\n",
       "==============================================================================\n",
       "Omnibus:                        1.557   Durbin-Watson:                   2.180\n",
       "Prob(Omnibus):                  0.459   Jarque-Bera (JB):                1.446\n",
       "Skew:                           0.132   Prob(JB):                        0.485\n",
       "Kurtosis:                       2.576   Cond. No.                     7.91e+14\n",
       "==============================================================================\n",
       "\n",
       "Warnings:\n",
       "[1] Standard Errors assume that the covariance matrix of the errors is correctly specified.\n",
       "[2] The smallest eigenvalue is 6.41e-28. This might indicate that there are\n",
       "strong multicollinearity problems or that the design matrix is singular.\n",
       "\"\"\""
      ]
     },
     "execution_count": 7,
     "metadata": {},
     "output_type": "execute_result"
    }
   ],
   "source": [
    "# Reduce less important variables with Backward Elimination\n",
    "import statsmodels.regression.linear_model as sm\n",
    "\n",
    "# for statsmodel to understand the multiple linear regression equation a new column with b0 equals one is required (y = b0 + b1*x1 + b2*x2 + ... + bn*xn)\n",
    "X_opt = np.append(arr = np.ones((len(X), 1)).astype(int), values = X, axis = 1)   # Add X to the newly created array of 1s\n",
    "#X_opt = X_opt[:, list(range(X_opt.shape[1]))]\n",
    "\n",
    "X_cols = dataset.columns[1:-1].tolist()    # save headers to determin most important variables later\n",
    "X_cols.insert(0,'b0')\n",
    "\n",
    "X_mod1, X_mod2 = X_opt.copy(), X_opt.copy()\n",
    "X_cols_mod1, X_cols_mod2 = X_cols.copy(), X_cols.copy()\n",
    "\n",
    "regressor_OLS = sm.OLS(endog = y, exog = X_opt).fit()\n",
    "regressor_OLS.summary()"
   ]
  },
  {
   "cell_type": "code",
   "execution_count": 8,
   "metadata": {},
   "outputs": [
    {
     "name": "stdout",
     "output_type": "stream",
     "text": [
      "['IP.JRN.ARTC.SC', 'NE.TRD.GNFS.ZS', 'NY.GDP.PCAP.PP.CD']\n"
     ]
    }
   ],
   "source": [
    "# Fuction to automatically remove columns where P-value is below significance level of 5%\n",
    "def backward_elimination(x, X_cols_mod, significance = 0.05):\n",
    "    num_vars = len(x[0])\n",
    "    for i in range(0, num_vars):\n",
    "        regressor_OLS = sm.OLS(endog = y, exog = x).fit()\n",
    "        max_var = max(regressor_OLS.pvalues).astype(float)\n",
    "        if max_var > significance:\n",
    "            for j in range(0, num_vars - i):\n",
    "                if (regressor_OLS.pvalues[j].astype(float) == max_var):\n",
    "                    x = np.delete(x, j, 1)\n",
    "                    X_cols_mod.pop(j)\n",
    "    regressor_OLS.summary()\n",
    "    return x, X_cols_mod\n",
    "             \n",
    "backward_elimination(X_mod1, X_cols_mod1)\n",
    "print(X_cols_mod1)"
   ]
  },
  {
   "cell_type": "code",
   "execution_count": 9,
   "metadata": {},
   "outputs": [
    {
     "name": "stdout",
     "output_type": "stream",
     "text": [
      "                            OLS Regression Results                            \n",
      "==============================================================================\n",
      "Dep. Variable:                      y   R-squared:                       0.164\n",
      "Model:                            OLS   Adj. R-squared:                  0.120\n",
      "Method:                 Least Squares   F-statistic:                     3.703\n",
      "Date:                Fri, 14 Feb 2020   Prob (F-statistic):            0.00109\n",
      "Time:                        10:37:25   Log-Likelihood:                -184.77\n",
      "No. Observations:                 139   AIC:                             383.5\n",
      "Df Residuals:                     132   BIC:                             404.1\n",
      "Df Model:                           7                                         \n",
      "Covariance Type:            nonrobust                                         \n",
      "==============================================================================\n",
      "                 coef    std err          t      P>|t|      [0.025      0.975]\n",
      "------------------------------------------------------------------------------\n",
      "x1            -0.1321      0.085     -1.560      0.121      -0.300       0.035\n",
      "x2         -1.056e+13   2.36e+13     -0.447      0.656   -5.73e+13    3.62e+13\n",
      "x3         -2.668e+12   5.97e+12     -0.447      0.656   -1.45e+13    9.15e+12\n",
      "x4          1.077e+13   2.41e+13      0.447      0.656   -3.69e+13    5.84e+13\n",
      "x5            -0.3628      0.102     -3.543      0.001      -0.565      -0.160\n",
      "x6             0.1505      0.102      1.471      0.144      -0.052       0.353\n",
      "x7            -0.1292      0.097     -1.325      0.187      -0.322       0.064\n",
      "x8             0.0782      0.081      0.970      0.334      -0.081       0.238\n",
      "==============================================================================\n",
      "Omnibus:                        1.790   Durbin-Watson:                   2.186\n",
      "Prob(Omnibus):                  0.409   Jarque-Bera (JB):                1.637\n",
      "Skew:                           0.154   Prob(JB):                        0.441\n",
      "Kurtosis:                       2.567   Cond. No.                     6.34e+14\n",
      "==============================================================================\n",
      "\n",
      "Warnings:\n",
      "[1] Standard Errors assume that the covariance matrix of the errors is correctly specified.\n",
      "[2] The smallest eigenvalue is 7.49e-28. This might indicate that there are\n",
      "strong multicollinearity problems or that the design matrix is singular.\n",
      "['GB.XPD.RSDV.GD.ZS', 'IP.JRN.ARTC.SC', 'NE.IMP.GNFS.ZS', 'NE.TRD.GNFS.ZS', 'NV.AGR.TOTL.ZS', 'NV.IND.MANF.ZS', 'NV.IND.TOTL.ZS', 'NY.GDP.PCAP.PP.CD', 'NE.RSB.GNFS.ZS']\n"
     ]
    }
   ],
   "source": [
    "# Fuction to automatically remove columns where P-value is below significance level of 5%\n",
    "# and adjusted R² is improved\n",
    "def backward_elimination_r2(x, X_cols_mod, significance = 0.05):\n",
    "    num_vars = len(x[0])\n",
    "    temp = np.zeros((x.shape)).astype(int)\n",
    "    for i in range(0, num_vars):\n",
    "        regressor_OLS = sm.OLS(endog = y, exog = x).fit()\n",
    "        max_var = max(regressor_OLS.pvalues).astype(float)\n",
    "        adjR_before = regressor_OLS.rsquared_adj.astype(float)\n",
    "        if max_var > significance:\n",
    "            for j in range(0, num_vars - i):\n",
    "                if (regressor_OLS.pvalues[j].astype(float) == max_var):\n",
    "                    temp[:,j] = x[:, j]\n",
    "                    x = np.delete(x, j, axis = 1)\n",
    "                    tmp_col = X_cols_mod.pop(j)\n",
    "                    tmp_regressor = sm.OLS(endog = y, exog = x).fit()\n",
    "                    adjR_after = tmp_regressor.rsquared_adj.astype(float)\n",
    "                    if (adjR_before >= adjR_after):\n",
    "                        x_rollback = np.hstack((x, temp[:,[0,j]]))\n",
    "                        x_rollback = np.delete(x_rollback, j, 1)\n",
    "                        X_cols_rollback = X_cols_mod.append(tmp_col)\n",
    "                        #x = np.hstack((x, temp[:,[0,j]]))\n",
    "                        #x = np.delete(x, j, 1)\n",
    "                        #X_cols_mod = X_cols_mod.append(tmp_col)\n",
    "                        print (regressor_OLS.summary())\n",
    "                        return x_rollback, X_cols_rollback\n",
    "                    else:\n",
    "                        continue\n",
    "    regressor_OLS.summary()\n",
    "    return x, X_cols_mod\n",
    "    \n",
    "backward_elimination_r2(X_mod2, X_cols_mod2)\n",
    "print(X_cols_mod2)"
   ]
  },
  {
   "cell_type": "code",
   "execution_count": 10,
   "metadata": {},
   "outputs": [],
   "source": [
    "#import seaborn as sns\n",
    "\n",
    "#sns.set_style('darkgrid')\n",
    "\n"
   ]
  },
  {
   "cell_type": "code",
   "execution_count": 11,
   "metadata": {},
   "outputs": [
    {
     "data": {
      "image/png": "[encoded data removed]",
      "text/plain": [
       "<Figure size 432x288 with 2 Axes>"
      ]
     },
     "metadata": {},
     "output_type": "display_data"
    }
   ],
   "source": [
    "# Create Correlation Matrix with Seaborn\n",
    "import seaborn as sns\n",
    "\n",
    "corr = dataset.corr()\n",
    "ax = sns.heatmap(\n",
    "    corr, \n",
    "    vmin=-1, vmax=1, center=0,\n",
    "    cmap=sns.diverging_palette(20, 220, n=200),\n",
    "    square=True\n",
    ")\n",
    "ax.set_xticklabels(\n",
    "    ax.get_xticklabels(),\n",
    "    rotation=45,\n",
    "    horizontalalignment='right'\n",
    ");"
   ]
  },
  {
   "cell_type": "code",
   "execution_count": 12,
   "metadata": {},
   "outputs": [
    {
     "data": {
      "image/png": "[encoded data removed]",
      "text/plain": [
       "<Figure size 432x288 with 2 Axes>"
      ]
     },
     "metadata": {},
     "output_type": "display_data"
    }
   ],
   "source": [
    "# Create Correlation Matrix with Seaborn (only remaining columns from backward elimination)\n",
    "corr_cols = X_cols_mod1.copy()\n",
    "corr_cols.append('Happy Planet Index')\n",
    "corr = dataset[corr_cols].corr()\n",
    "ax = sns.heatmap(\n",
    "    corr, \n",
    "    vmin=-1, vmax=1, center=0,\n",
    "    cmap=sns.diverging_palette(20, 220, n=200),\n",
    "    square=True\n",
    ")\n",
    "ax.set_xticklabels(\n",
    "    ax.get_xticklabels(),\n",
    "    rotation=45,\n",
    "    horizontalalignment='right'\n",
    ");"
   ]
  },
  {
   "cell_type": "code",
   "execution_count": 13,
   "metadata": {},
   "outputs": [
    {
     "data": {
      "text/plain": [
       "'\\n# Scatterplot Matrix\\nfrom pandas.plotting import scatter_matrix\\n#url = \"https://raw.githubusercontent.com/jbrownlee/Datasets/master/pima-indians-diabetes.csv\"\\n#names = [\\'preg\\', \\'plas\\', \\'pres\\', \\'skin\\', \\'test\\', \\'mass\\', \\'pedi\\', \\'age\\', \\'class\\']\\n#data = pd.read_csv(dataset, names=dataset.columns)\\nscatter_matrix(dataset)\\nplt.show()\\n'"
      ]
     },
     "execution_count": 13,
     "metadata": {},
     "output_type": "execute_result"
    }
   ],
   "source": [
    "'''\n",
    "# Scatterplot Matrix\n",
    "from pandas.plotting import scatter_matrix\n",
    "#url = \"https://raw.githubusercontent.com/jbrownlee/Datasets/master/pima-indians-diabetes.csv\"\n",
    "#names = ['preg', 'plas', 'pres', 'skin', 'test', 'mass', 'pedi', 'age', 'class']\n",
    "#data = pd.read_csv(dataset, names=dataset.columns)\n",
    "scatter_matrix(dataset)\n",
    "plt.show()\n",
    "'''"
   ]
  }
 ],
 "metadata": {
  "kernelspec": {
   "display_name": "Python 3",
   "language": "python",
   "name": "python3"
  },
  "language_info": {
   "codemirror_mode": {
    "name": "ipython",
    "version": 3
   },
   "file_extension": ".py",
   "mimetype": "text/x-python",
   "name": "python",
   "nbconvert_exporter": "python",
   "pygments_lexer": "ipython3",
   "version": "3.6.5"
  }
 },
 "nbformat": 4,
 "nbformat_minor": 2
}
