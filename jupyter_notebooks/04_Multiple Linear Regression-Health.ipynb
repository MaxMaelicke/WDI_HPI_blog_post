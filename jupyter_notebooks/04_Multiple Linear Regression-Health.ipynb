{
 "cells": [
  {
   "cell_type": "markdown",
   "metadata": {},
   "source": [
    "## Multiple Linear Regression\n",
    "### and backward elimination\n",
    "#### health indicators\n",
    "\n",
    "The purpose of this notebook is to \n",
    "* apply Multiple Linear Regression to the preprocessed dataset\n",
    "* apply backward elimination to the model\n",
    "* ultimately find out the independent variables (World Development Idicators) which influence the dependent variable (Happy Planet Index) the most.\n",
    "\n",
    "The model will be applied to the \"wdi_hpi_2016_health\" dataset, which was created in the Data Preprocessing JNotebook. This dataset is based on\n",
    "* the Happy Planet Index for 2016 (see https://happyplanetindex.org/),\n",
    "* the World Development Indicators (1960 - 2019) by the World Bank (see https://datacatalog.worldbank.org/dataset/world-development-indicators)"
   ]
  },
  {
   "cell_type": "code",
   "execution_count": 1,
   "metadata": {},
   "outputs": [],
   "source": [
    "# Import standard libraries\n",
    "import numpy as np\n",
    "import pandas as pd\n",
    "import matplotlib.pyplot as plt\n",
    "%matplotlib inline"
   ]
  },
  {
   "cell_type": "code",
   "execution_count": 2,
   "metadata": {},
   "outputs": [],
   "source": [
    "# Import dataset\n",
    "dataset = pd.read_pickle('../data/wdi_hpi_2016_health.pkl')\n",
    "picture_name = '../data/pictures/Health_corr.jpg'"
   ]
  },
  {
   "cell_type": "code",
   "execution_count": 3,
   "metadata": {},
   "outputs": [],
   "source": [
    "# Standardize data for the model\n",
    "from sklearn.preprocessing import StandardScaler\n",
    "scaler = StandardScaler()\n",
    "\n",
    "# Fit dataset to scaler object\n",
    "dataset_scaled = dataset.iloc[:, 1:].values    # Exclude Country column \n",
    "scaler.fit(dataset_scaled)\n",
    "\n",
    "# Transform data into scaled data\n",
    "dataset_scaled = pd.DataFrame(scaler.transform(dataset_scaled))"
   ]
  },
  {
   "cell_type": "code",
   "execution_count": 4,
   "metadata": {},
   "outputs": [],
   "source": [
    "# Split dataset into X (matrix of independent variables) and y (vector of dependent variable)\n",
    "X = dataset_scaled.iloc[:, 1:-1].values\n",
    "y = dataset_scaled.iloc[:, dataset_scaled.shape[1]-1].values\n",
    "\n",
    "# Split datasets into Training set and Test set\n",
    "from sklearn.model_selection import train_test_split\n",
    "X_train, X_test, y_train, y_test = train_test_split(X, y, test_size = 0.0)    # no split, as model is not used for prediction"
   ]
  },
  {
   "cell_type": "code",
   "execution_count": 5,
   "metadata": {},
   "outputs": [
    {
     "data": {
      "text/plain": [
       "LinearRegression(copy_X=True, fit_intercept=True, n_jobs=1, normalize=False)"
      ]
     },
     "execution_count": 5,
     "metadata": {},
     "output_type": "execute_result"
    }
   ],
   "source": [
    "# Fit Multiple Linear Regression Model to the Training set\n",
    "from sklearn.linear_model import LinearRegression\n",
    "regressor = LinearRegression()\n",
    "regressor.fit(X_train, y_train)"
   ]
  },
  {
   "cell_type": "code",
   "execution_count": 6,
   "metadata": {},
   "outputs": [],
   "source": [
    "# Predict the Test set results\n",
    "#y_pred = regressor.predict(X_test)"
   ]
  },
  {
   "cell_type": "code",
   "execution_count": 7,
   "metadata": {},
   "outputs": [
    {
     "data": {
      "text/html": [
       "<table class=\"simpletable\">\n",
       "<caption>OLS Regression Results</caption>\n",
       "<tr>\n",
       "  <th>Dep. Variable:</th>            <td>y</td>        <th>  R-squared:         </th> <td>   0.381</td>\n",
       "</tr>\n",
       "<tr>\n",
       "  <th>Model:</th>                   <td>OLS</td>       <th>  Adj. R-squared:    </th> <td>   0.358</td>\n",
       "</tr>\n",
       "<tr>\n",
       "  <th>Method:</th>             <td>Least Squares</td>  <th>  F-statistic:       </th> <td>   16.38</td>\n",
       "</tr>\n",
       "<tr>\n",
       "  <th>Date:</th>             <td>Wed, 04 Mar 2020</td> <th>  Prob (F-statistic):</th> <td>1.42e-12</td>\n",
       "</tr>\n",
       "<tr>\n",
       "  <th>Time:</th>                 <td>19:15:48</td>     <th>  Log-Likelihood:    </th> <td> -163.89</td>\n",
       "</tr>\n",
       "<tr>\n",
       "  <th>No. Observations:</th>      <td>   139</td>      <th>  AIC:               </th> <td>   339.8</td>\n",
       "</tr>\n",
       "<tr>\n",
       "  <th>Df Residuals:</th>          <td>   133</td>      <th>  BIC:               </th> <td>   357.4</td>\n",
       "</tr>\n",
       "<tr>\n",
       "  <th>Df Model:</th>              <td>     5</td>      <th>                     </th>     <td> </td>   \n",
       "</tr>\n",
       "<tr>\n",
       "  <th>Covariance Type:</th>      <td>nonrobust</td>    <th>                     </th>     <td> </td>   \n",
       "</tr>\n",
       "</table>\n",
       "<table class=\"simpletable\">\n",
       "<tr>\n",
       "    <td></td>       <th>coef</th>     <th>std err</th>      <th>t</th>      <th>P>|t|</th>  <th>[0.025</th>    <th>0.975]</th>  \n",
       "</tr>\n",
       "<tr>\n",
       "  <th>const</th> <td>-2.012e-16</td> <td>    0.068</td> <td>-2.95e-15</td> <td> 1.000</td> <td>   -0.135</td> <td>    0.135</td>\n",
       "</tr>\n",
       "<tr>\n",
       "  <th>x1</th>    <td>   -0.3534</td> <td>    0.083</td> <td>   -4.245</td> <td> 0.000</td> <td>   -0.518</td> <td>   -0.189</td>\n",
       "</tr>\n",
       "<tr>\n",
       "  <th>x2</th>    <td>   -0.1790</td> <td>    0.083</td> <td>   -2.153</td> <td> 0.033</td> <td>   -0.343</td> <td>   -0.015</td>\n",
       "</tr>\n",
       "<tr>\n",
       "  <th>x3</th>    <td>   -0.0578</td> <td>    0.150</td> <td>   -0.385</td> <td> 0.701</td> <td>   -0.355</td> <td>    0.240</td>\n",
       "</tr>\n",
       "<tr>\n",
       "  <th>x4</th>    <td>    0.8286</td> <td>    0.147</td> <td>    5.645</td> <td> 0.000</td> <td>    0.538</td> <td>    1.119</td>\n",
       "</tr>\n",
       "<tr>\n",
       "  <th>x5</th>    <td>   -0.0641</td> <td>    0.088</td> <td>   -0.727</td> <td> 0.469</td> <td>   -0.239</td> <td>    0.110</td>\n",
       "</tr>\n",
       "</table>\n",
       "<table class=\"simpletable\">\n",
       "<tr>\n",
       "  <th>Omnibus:</th>       <td> 1.494</td> <th>  Durbin-Watson:     </th> <td>   2.174</td>\n",
       "</tr>\n",
       "<tr>\n",
       "  <th>Prob(Omnibus):</th> <td> 0.474</td> <th>  Jarque-Bera (JB):  </th> <td>   1.224</td>\n",
       "</tr>\n",
       "<tr>\n",
       "  <th>Skew:</th>          <td>-0.227</td> <th>  Prob(JB):          </th> <td>   0.542</td>\n",
       "</tr>\n",
       "<tr>\n",
       "  <th>Kurtosis:</th>      <td> 3.072</td> <th>  Cond. No.          </th> <td>    5.18</td>\n",
       "</tr>\n",
       "</table><br/><br/>Warnings:<br/>[1] Standard Errors assume that the covariance matrix of the errors is correctly specified."
      ],
      "text/plain": [
       "<class 'statsmodels.iolib.summary.Summary'>\n",
       "\"\"\"\n",
       "                            OLS Regression Results                            \n",
       "==============================================================================\n",
       "Dep. Variable:                      y   R-squared:                       0.381\n",
       "Model:                            OLS   Adj. R-squared:                  0.358\n",
       "Method:                 Least Squares   F-statistic:                     16.38\n",
       "Date:                Wed, 04 Mar 2020   Prob (F-statistic):           1.42e-12\n",
       "Time:                        19:15:48   Log-Likelihood:                -163.89\n",
       "No. Observations:                 139   AIC:                             339.8\n",
       "Df Residuals:                     133   BIC:                             357.4\n",
       "Df Model:                           5                                         \n",
       "Covariance Type:            nonrobust                                         \n",
       "==============================================================================\n",
       "                 coef    std err          t      P>|t|      [0.025      0.975]\n",
       "------------------------------------------------------------------------------\n",
       "const      -2.012e-16      0.068  -2.95e-15      1.000      -0.135       0.135\n",
       "x1            -0.3534      0.083     -4.245      0.000      -0.518      -0.189\n",
       "x2            -0.1790      0.083     -2.153      0.033      -0.343      -0.015\n",
       "x3            -0.0578      0.150     -0.385      0.701      -0.355       0.240\n",
       "x4             0.8286      0.147      5.645      0.000       0.538       1.119\n",
       "x5            -0.0641      0.088     -0.727      0.469      -0.239       0.110\n",
       "==============================================================================\n",
       "Omnibus:                        1.494   Durbin-Watson:                   2.174\n",
       "Prob(Omnibus):                  0.474   Jarque-Bera (JB):                1.224\n",
       "Skew:                          -0.227   Prob(JB):                        0.542\n",
       "Kurtosis:                       3.072   Cond. No.                         5.18\n",
       "==============================================================================\n",
       "\n",
       "Warnings:\n",
       "[1] Standard Errors assume that the covariance matrix of the errors is correctly specified.\n",
       "\"\"\""
      ]
     },
     "execution_count": 7,
     "metadata": {},
     "output_type": "execute_result"
    }
   ],
   "source": [
    "# Reduce less important variables with Backward Elimination\n",
    "import statsmodels.regression.linear_model as sm\n",
    "\n",
    "# for statsmodel to understand the multiple linear regression equation a new column with b0 equals one is required (y = b0 + b1*x1 + b2*x2 + ... + bn*xn)\n",
    "X_opt = np.append(arr = np.ones((len(X), 1)).astype(int), values = X, axis = 1)   # Add X to the newly created array of 1s\n",
    "#X_opt = X_opt[:, list(range(X_opt.shape[1]))]\n",
    "\n",
    "X_cols = dataset.columns[1:-1].tolist()    # save headers to determin most important variables later\n",
    "X_cols.insert(0,'b0')\n",
    "\n",
    "X_mod1, X_mod2 = X_opt.copy(), X_opt.copy()\n",
    "X_cols_mod1, X_cols_mod2 = X_cols.copy(), X_cols.copy()\n",
    "\n",
    "regressor_OLS = sm.OLS(endog = y, exog = X_opt).fit()\n",
    "regressor_OLS.summary()"
   ]
  },
  {
   "cell_type": "code",
   "execution_count": 8,
   "metadata": {},
   "outputs": [
    {
     "name": "stdout",
     "output_type": "stream",
     "text": [
      "['SH.H2O.BASW.ZS', 'SH.H2O.SMDW.ZS', 'SH.STA.BASS.ZS', 'SP.POP.GROW']\n"
     ]
    }
   ],
   "source": [
    "# Fuction to automatically remove columns where P-value is below significance level of 5%\n",
    "def backward_elimination(x, X_cols_mod, significance = 0.05):\n",
    "    num_vars = len(x[0])\n",
    "    for i in range(0, num_vars):\n",
    "        regressor_OLS = sm.OLS(endog = y, exog = x).fit()\n",
    "        max_var = max(regressor_OLS.pvalues).astype(float)\n",
    "        if max_var > significance:\n",
    "            for j in range(0, num_vars - i):\n",
    "                if (regressor_OLS.pvalues[j].astype(float) == max_var):\n",
    "                    x = np.delete(x, j, 1)\n",
    "                    X_cols_mod.pop(j)\n",
    "    regressor_OLS.summary()\n",
    "    return x, X_cols_mod\n",
    "             \n",
    "backward_elimination(X_mod1, X_cols_mod1)\n",
    "print(X_cols_mod1)"
   ]
  },
  {
   "cell_type": "code",
   "execution_count": 9,
   "metadata": {},
   "outputs": [
    {
     "data": {
      "image/png": "[encoded data removed]",
      "text/plain": [
       "<Figure size 432x288 with 2 Axes>"
      ]
     },
     "metadata": {},
     "output_type": "display_data"
    }
   ],
   "source": [
    "# Create Correlation Matrix with Seaborn (only remaining columns from backward elimination)\n",
    "\n",
    "# Translate WDI abbreviations into meaningsful indicator descriptions\n",
    "chosen_columns = pd.read_pickle('../data/WDI_chosen_columns.pkl')\n",
    "\n",
    "corr_cols_descr = []\n",
    "for ind in X_cols_mod1:\n",
    "    descr = chosen_columns['Indicator Name'][chosen_columns['Indicator Code'] == ind].to_string(index = False)\n",
    "    corr_cols_descr.append(descr)\n",
    "corr_cols_descr.append('Happy Planet Index')\n",
    "\n",
    "# Import Seaborn and plot Correlation Matrix\n",
    "import seaborn as sns\n",
    "\n",
    "corr_cols = X_cols_mod1.copy()\n",
    "corr_cols.append('Happy Planet Index')\n",
    "corr = dataset[corr_cols].corr()\n",
    "\n",
    "ax = sns.heatmap(\n",
    "    corr, \n",
    "    vmin=-1, vmax=1, center=0,\n",
    "    cmap=sns.diverging_palette(20, 220, n=200),\n",
    "    square=True,\n",
    "    yticklabels = corr_cols_descr,\n",
    "    xticklabels = corr_cols_descr\n",
    ")\n",
    "\n",
    "ax.set_xticklabels(\n",
    "    ax.get_xticklabels(),\n",
    "    rotation=45,\n",
    "    horizontalalignment='right'\n",
    ");"
   ]
  },
  {
   "cell_type": "code",
   "execution_count": 10,
   "metadata": {},
   "outputs": [
    {
     "name": "stdout",
     "output_type": "stream",
     "text": [
      "['SH.H2O.BASW.ZS', 'SH.H2O.SMDW.ZS', 'SH.STA.BASS.ZS', 'SP.POP.GROW']\n"
     ]
    }
   ],
   "source": [
    "# Fuction to automatically remove columns where P-value is below significance level of 5%\n",
    "# and adjusted R² is improved\n",
    "def backward_elimination_r2(x, X_cols_mod, significance = 0.05):\n",
    "    num_vars = len(x[0])\n",
    "    temp = np.zeros((x.shape)).astype(int)\n",
    "    for i in range(0, num_vars):\n",
    "        regressor_OLS = sm.OLS(endog = y, exog = x).fit()\n",
    "        max_var = max(regressor_OLS.pvalues).astype(float)\n",
    "        adjR_before = regressor_OLS.rsquared_adj.astype(float)\n",
    "        if max_var > significance:\n",
    "            for j in range(0, num_vars - i):\n",
    "                if (regressor_OLS.pvalues[j].astype(float) == max_var):\n",
    "                    temp[:,j] = x[:, j]\n",
    "                    x = np.delete(x, j, axis = 1)\n",
    "                    tmp_col = X_cols_mod.pop(j)\n",
    "                    tmp_regressor = sm.OLS(endog = y, exog = x).fit()\n",
    "                    adjR_after = tmp_regressor.rsquared_adj.astype(float)\n",
    "                    if (adjR_before >= adjR_after):\n",
    "                        x_rollback = np.hstack((x, temp[:,[0,j]]))\n",
    "                        x_rollback = np.delete(x_rollback, j, 1)\n",
    "                        X_cols_rollback = X_cols_mod.append(tmp_col)\n",
    "                        #x = np.hstack((x, temp[:,[0,j]]))\n",
    "                        #x = np.delete(x, j, 1)\n",
    "                        #X_cols_mod = X_cols_mod.append(tmp_col)\n",
    "                        print (regressor_OLS.summary())\n",
    "                        return x_rollback, X_cols_rollback\n",
    "                    else:\n",
    "                        continue\n",
    "    regressor_OLS.summary()\n",
    "    return x, X_cols_mod\n",
    "    \n",
    "backward_elimination_r2(X_mod2, X_cols_mod2)\n",
    "print(X_cols_mod2)"
   ]
  },
  {
   "cell_type": "code",
   "execution_count": 11,
   "metadata": {},
   "outputs": [
    {
     "data": {
      "text/html": [
       "<div>\n",
       "<style scoped>\n",
       "    .dataframe tbody tr th:only-of-type {\n",
       "        vertical-align: middle;\n",
       "    }\n",
       "\n",
       "    .dataframe tbody tr th {\n",
       "        vertical-align: top;\n",
       "    }\n",
       "\n",
       "    .dataframe thead th {\n",
       "        text-align: right;\n",
       "    }\n",
       "</style>\n",
       "<table border=\"1\" class=\"dataframe\">\n",
       "  <thead>\n",
       "    <tr style=\"text-align: right;\">\n",
       "      <th></th>\n",
       "      <th>SH.H2O.BASW.ZS</th>\n",
       "      <th>SH.H2O.SMDW.ZS</th>\n",
       "      <th>SH.STA.BASS.ZS</th>\n",
       "      <th>SP.POP.GROW</th>\n",
       "      <th>Happy Planet Index</th>\n",
       "    </tr>\n",
       "  </thead>\n",
       "  <tbody>\n",
       "    <tr>\n",
       "      <th>SH.H2O.BASW.ZS</th>\n",
       "      <td>1.000000</td>\n",
       "      <td>0.449464</td>\n",
       "      <td>0.882600</td>\n",
       "      <td>-0.625255</td>\n",
       "      <td>0.459057</td>\n",
       "    </tr>\n",
       "    <tr>\n",
       "      <th>SH.H2O.SMDW.ZS</th>\n",
       "      <td>0.449464</td>\n",
       "      <td>1.000000</td>\n",
       "      <td>0.544494</td>\n",
       "      <td>-0.395243</td>\n",
       "      <td>0.033831</td>\n",
       "    </tr>\n",
       "    <tr>\n",
       "      <th>SH.STA.BASS.ZS</th>\n",
       "      <td>0.882600</td>\n",
       "      <td>0.544494</td>\n",
       "      <td>1.000000</td>\n",
       "      <td>-0.616264</td>\n",
       "      <td>0.421342</td>\n",
       "    </tr>\n",
       "    <tr>\n",
       "      <th>SP.POP.GROW</th>\n",
       "      <td>-0.625255</td>\n",
       "      <td>-0.395243</td>\n",
       "      <td>-0.616264</td>\n",
       "      <td>1.000000</td>\n",
       "      <td>-0.246273</td>\n",
       "    </tr>\n",
       "    <tr>\n",
       "      <th>Happy Planet Index</th>\n",
       "      <td>0.459057</td>\n",
       "      <td>0.033831</td>\n",
       "      <td>0.421342</td>\n",
       "      <td>-0.246273</td>\n",
       "      <td>1.000000</td>\n",
       "    </tr>\n",
       "  </tbody>\n",
       "</table>\n",
       "</div>"
      ],
      "text/plain": [
       "                    SH.H2O.BASW.ZS  SH.H2O.SMDW.ZS  SH.STA.BASS.ZS  \\\n",
       "SH.H2O.BASW.ZS            1.000000        0.449464        0.882600   \n",
       "SH.H2O.SMDW.ZS            0.449464        1.000000        0.544494   \n",
       "SH.STA.BASS.ZS            0.882600        0.544494        1.000000   \n",
       "SP.POP.GROW              -0.625255       -0.395243       -0.616264   \n",
       "Happy Planet Index        0.459057        0.033831        0.421342   \n",
       "\n",
       "                    SP.POP.GROW  Happy Planet Index  \n",
       "SH.H2O.BASW.ZS        -0.625255            0.459057  \n",
       "SH.H2O.SMDW.ZS        -0.395243            0.033831  \n",
       "SH.STA.BASS.ZS        -0.616264            0.421342  \n",
       "SP.POP.GROW            1.000000           -0.246273  \n",
       "Happy Planet Index    -0.246273            1.000000  "
      ]
     },
     "execution_count": 11,
     "metadata": {},
     "output_type": "execute_result"
    },
    {
     "data": {
      "image/png": "[encoded data removed]",
      "text/plain": [
       "<Figure size 432x288 with 2 Axes>"
      ]
     },
     "metadata": {},
     "output_type": "display_data"
    }
   ],
   "source": [
    "# Create Correlation Matrix with Seaborn\n",
    "\n",
    "# Translate WDI abbreviations into meaningsful indicator descriptions\n",
    "corr_cols_descr = []\n",
    "for ind in X_cols_mod2:\n",
    "    descr = chosen_columns['Indicator Name'][chosen_columns['Indicator Code'] == ind].to_string(index = False)\n",
    "    corr_cols_descr.append(descr)\n",
    "corr_cols_descr.append('Happy Planet Index')\n",
    "\n",
    "corr_cols = X_cols_mod2.copy()\n",
    "corr_cols.append('Happy Planet Index')\n",
    "corr = dataset[corr_cols].corr()\n",
    "\n",
    "ax = sns.heatmap(\n",
    "    corr, \n",
    "    vmin=-1, vmax=1, center=0,\n",
    "    cmap=sns.diverging_palette(20, 220, n=200),\n",
    "    square=True,\n",
    "    yticklabels = corr_cols_descr,\n",
    "    xticklabels = corr_cols_descr\n",
    ")\n",
    "ax.set_xticklabels(\n",
    "    ax.get_xticklabels(),\n",
    "    rotation=45,\n",
    "    horizontalalignment='right'\n",
    ");\n",
    "\n",
    "# Save Correlation Matrix to \n",
    "plt.savefig(picture_name, format = 'jpg', optimize = True, bbox_inches = 'tight')\n",
    "\n",
    "# Return Correlation Matrix\n",
    "corr"
   ]
  }
 ],
 "metadata": {
  "kernelspec": {
   "display_name": "Python 3",
   "language": "python",
   "name": "python3"
  },
  "language_info": {
   "codemirror_mode": {
    "name": "ipython",
    "version": 3
   },
   "file_extension": ".py",
   "mimetype": "text/x-python",
   "name": "python",
   "nbconvert_exporter": "python",
   "pygments_lexer": "ipython3",
   "version": "3.6.5"
  }
 },
 "nbformat": 4,
 "nbformat_minor": 2
}
